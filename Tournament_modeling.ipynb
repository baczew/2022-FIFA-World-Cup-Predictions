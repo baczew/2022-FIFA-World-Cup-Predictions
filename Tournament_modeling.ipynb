{
 "cells": [
  {
   "cell_type": "markdown",
   "id": "96ac6f1e",
   "metadata": {},
   "source": [
    "# 2022 FIFA World Cup prediction modeling"
   ]
  },
  {
   "cell_type": "markdown",
   "id": "876af0f1",
   "metadata": {},
   "source": [
    "---"
   ]
  },
  {
   "cell_type": "markdown",
   "id": "cbd88743",
   "metadata": {},
   "source": [
    "### by Mateusz Baczewski & Aleksander Mszyca"
   ]
  },
  {
   "cell_type": "markdown",
   "id": "f88fb55d",
   "metadata": {},
   "source": [
    "Method based on multinomial logistic regression, with use of self-calculated teams' ELO ranking score as a predictor."
   ]
  },
  {
   "cell_type": "markdown",
   "id": "382d0524",
   "metadata": {},
   "source": [
    "---"
   ]
  },
  {
   "cell_type": "markdown",
   "id": "e4a4c2d1",
   "metadata": {},
   "source": [
    "## Import packages"
   ]
  },
  {
   "cell_type": "code",
   "execution_count": 1,
   "id": "3e2f5216",
   "metadata": {},
   "outputs": [],
   "source": [
    "import pandas as pd\n",
    "import numpy as np\n",
    "import matplotlib.pyplot as plt\n",
    "import warnings\n",
    "from sklearn.linear_model import LogisticRegression\n",
    "from collections import Counter\n",
    "warnings.filterwarnings('ignore')"
   ]
  },
  {
   "cell_type": "markdown",
   "id": "31f7f12b",
   "metadata": {},
   "source": [
    "---"
   ]
  },
  {
   "cell_type": "markdown",
   "id": "bc057b28",
   "metadata": {},
   "source": [
    "## Read data"
   ]
  },
  {
   "cell_type": "code",
   "execution_count": 2,
   "id": "82db5d27",
   "metadata": {},
   "outputs": [
    {
     "data": {
      "text/html": [
       "<div>\n",
       "<style scoped>\n",
       "    .dataframe tbody tr th:only-of-type {\n",
       "        vertical-align: middle;\n",
       "    }\n",
       "\n",
       "    .dataframe tbody tr th {\n",
       "        vertical-align: top;\n",
       "    }\n",
       "\n",
       "    .dataframe thead th {\n",
       "        text-align: right;\n",
       "    }\n",
       "</style>\n",
       "<table border=\"1\" class=\"dataframe\">\n",
       "  <thead>\n",
       "    <tr style=\"text-align: right;\">\n",
       "      <th></th>\n",
       "      <th>date</th>\n",
       "      <th>home_team</th>\n",
       "      <th>away_team</th>\n",
       "      <th>home_score</th>\n",
       "      <th>away_score</th>\n",
       "      <th>tournament</th>\n",
       "      <th>city</th>\n",
       "      <th>country</th>\n",
       "      <th>neutral</th>\n",
       "    </tr>\n",
       "  </thead>\n",
       "  <tbody>\n",
       "    <tr>\n",
       "      <th>0</th>\n",
       "      <td>1872-11-30</td>\n",
       "      <td>Scotland</td>\n",
       "      <td>England</td>\n",
       "      <td>0.0</td>\n",
       "      <td>0.0</td>\n",
       "      <td>Friendly</td>\n",
       "      <td>Glasgow</td>\n",
       "      <td>Scotland</td>\n",
       "      <td>False</td>\n",
       "    </tr>\n",
       "    <tr>\n",
       "      <th>1</th>\n",
       "      <td>1873-03-08</td>\n",
       "      <td>England</td>\n",
       "      <td>Scotland</td>\n",
       "      <td>4.0</td>\n",
       "      <td>2.0</td>\n",
       "      <td>Friendly</td>\n",
       "      <td>London</td>\n",
       "      <td>England</td>\n",
       "      <td>False</td>\n",
       "    </tr>\n",
       "    <tr>\n",
       "      <th>2</th>\n",
       "      <td>1874-03-07</td>\n",
       "      <td>Scotland</td>\n",
       "      <td>England</td>\n",
       "      <td>2.0</td>\n",
       "      <td>1.0</td>\n",
       "      <td>Friendly</td>\n",
       "      <td>Glasgow</td>\n",
       "      <td>Scotland</td>\n",
       "      <td>False</td>\n",
       "    </tr>\n",
       "    <tr>\n",
       "      <th>3</th>\n",
       "      <td>1875-03-06</td>\n",
       "      <td>England</td>\n",
       "      <td>Scotland</td>\n",
       "      <td>2.0</td>\n",
       "      <td>2.0</td>\n",
       "      <td>Friendly</td>\n",
       "      <td>London</td>\n",
       "      <td>England</td>\n",
       "      <td>False</td>\n",
       "    </tr>\n",
       "    <tr>\n",
       "      <th>4</th>\n",
       "      <td>1876-03-04</td>\n",
       "      <td>Scotland</td>\n",
       "      <td>England</td>\n",
       "      <td>3.0</td>\n",
       "      <td>0.0</td>\n",
       "      <td>Friendly</td>\n",
       "      <td>Glasgow</td>\n",
       "      <td>Scotland</td>\n",
       "      <td>False</td>\n",
       "    </tr>\n",
       "  </tbody>\n",
       "</table>\n",
       "</div>"
      ],
      "text/plain": [
       "         date home_team away_team  home_score  away_score tournament     city  \\\n",
       "0  1872-11-30  Scotland   England         0.0         0.0   Friendly  Glasgow   \n",
       "1  1873-03-08   England  Scotland         4.0         2.0   Friendly   London   \n",
       "2  1874-03-07  Scotland   England         2.0         1.0   Friendly  Glasgow   \n",
       "3  1875-03-06   England  Scotland         2.0         2.0   Friendly   London   \n",
       "4  1876-03-04  Scotland   England         3.0         0.0   Friendly  Glasgow   \n",
       "\n",
       "    country  neutral  \n",
       "0  Scotland    False  \n",
       "1   England    False  \n",
       "2  Scotland    False  \n",
       "3   England    False  \n",
       "4  Scotland    False  "
      ]
     },
     "execution_count": 2,
     "metadata": {},
     "output_type": "execute_result"
    }
   ],
   "source": [
    "data = pd.read_csv(\"results.csv\")\n",
    "data.head(5)"
   ]
  },
  {
   "cell_type": "code",
   "execution_count": 3,
   "id": "db6e888f",
   "metadata": {},
   "outputs": [],
   "source": [
    "data = data.dropna()"
   ]
  },
  {
   "cell_type": "code",
   "execution_count": 4,
   "id": "bb8e5c7c",
   "metadata": {},
   "outputs": [
    {
     "name": "stdout",
     "output_type": "stream",
     "text": [
      "Number of rows: 44059\n"
     ]
    }
   ],
   "source": [
    "print(f\"Number of rows: {data.shape[0]}\")"
   ]
  },
  {
   "cell_type": "code",
   "execution_count": 5,
   "id": "6f467e13",
   "metadata": {},
   "outputs": [
    {
     "name": "stdout",
     "output_type": "stream",
     "text": [
      "Number of teams in the dataset: 316\n"
     ]
    }
   ],
   "source": [
    "teams = set(data['home_team']) | set(data['away_team'])\n",
    "print(f\"Number of teams in the dataset: {len(teams)}\")"
   ]
  },
  {
   "cell_type": "markdown",
   "id": "207f84cf",
   "metadata": {},
   "source": [
    "---"
   ]
  },
  {
   "cell_type": "markdown",
   "id": "ecadb30d",
   "metadata": {},
   "source": [
    "## Create calculated columns"
   ]
  },
  {
   "cell_type": "markdown",
   "id": "2fb5d524",
   "metadata": {},
   "source": [
    "### Goal difference"
   ]
  },
  {
   "cell_type": "code",
   "execution_count": 6,
   "id": "d495ca0b",
   "metadata": {},
   "outputs": [],
   "source": [
    "data['goal_diff'] = abs(data.home_score - data.away_score)"
   ]
  },
  {
   "cell_type": "markdown",
   "id": "0dd0a791",
   "metadata": {},
   "source": [
    "### Year"
   ]
  },
  {
   "cell_type": "code",
   "execution_count": 7,
   "id": "9a6d5ca5",
   "metadata": {},
   "outputs": [],
   "source": [
    "data['year'] = data.date.astype('str').apply(lambda x: int(x[:4]))"
   ]
  },
  {
   "cell_type": "markdown",
   "id": "eea3d01d",
   "metadata": {},
   "source": [
    "### Coded result variable"
   ]
  },
  {
   "cell_type": "code",
   "execution_count": 8,
   "id": "add1988e",
   "metadata": {},
   "outputs": [],
   "source": [
    "def result(a, b):\n",
    "    \n",
    "    if a == b:\n",
    "        return 0.5\n",
    "    \n",
    "    elif a > b:\n",
    "        return 1\n",
    "    \n",
    "    elif a < b:\n",
    "        return 0\n",
    "    \n",
    "for n in range(data.shape[0]):\n",
    "    data.loc[n, 'result'] = result(data.home_score[n], data.away_score[n])"
   ]
  },
  {
   "cell_type": "code",
   "execution_count": 9,
   "id": "4fd546de",
   "metadata": {},
   "outputs": [
    {
     "data": {
      "text/html": [
       "<div>\n",
       "<style scoped>\n",
       "    .dataframe tbody tr th:only-of-type {\n",
       "        vertical-align: middle;\n",
       "    }\n",
       "\n",
       "    .dataframe tbody tr th {\n",
       "        vertical-align: top;\n",
       "    }\n",
       "\n",
       "    .dataframe thead th {\n",
       "        text-align: right;\n",
       "    }\n",
       "</style>\n",
       "<table border=\"1\" class=\"dataframe\">\n",
       "  <thead>\n",
       "    <tr style=\"text-align: right;\">\n",
       "      <th></th>\n",
       "      <th>date</th>\n",
       "      <th>home_team</th>\n",
       "      <th>away_team</th>\n",
       "      <th>home_score</th>\n",
       "      <th>away_score</th>\n",
       "      <th>tournament</th>\n",
       "      <th>city</th>\n",
       "      <th>country</th>\n",
       "      <th>neutral</th>\n",
       "      <th>goal_diff</th>\n",
       "      <th>year</th>\n",
       "      <th>result</th>\n",
       "    </tr>\n",
       "  </thead>\n",
       "  <tbody>\n",
       "    <tr>\n",
       "      <th>0</th>\n",
       "      <td>1872-11-30</td>\n",
       "      <td>Scotland</td>\n",
       "      <td>England</td>\n",
       "      <td>0.0</td>\n",
       "      <td>0.0</td>\n",
       "      <td>Friendly</td>\n",
       "      <td>Glasgow</td>\n",
       "      <td>Scotland</td>\n",
       "      <td>False</td>\n",
       "      <td>0.0</td>\n",
       "      <td>1872</td>\n",
       "      <td>0.5</td>\n",
       "    </tr>\n",
       "    <tr>\n",
       "      <th>1</th>\n",
       "      <td>1873-03-08</td>\n",
       "      <td>England</td>\n",
       "      <td>Scotland</td>\n",
       "      <td>4.0</td>\n",
       "      <td>2.0</td>\n",
       "      <td>Friendly</td>\n",
       "      <td>London</td>\n",
       "      <td>England</td>\n",
       "      <td>False</td>\n",
       "      <td>2.0</td>\n",
       "      <td>1873</td>\n",
       "      <td>1.0</td>\n",
       "    </tr>\n",
       "    <tr>\n",
       "      <th>2</th>\n",
       "      <td>1874-03-07</td>\n",
       "      <td>Scotland</td>\n",
       "      <td>England</td>\n",
       "      <td>2.0</td>\n",
       "      <td>1.0</td>\n",
       "      <td>Friendly</td>\n",
       "      <td>Glasgow</td>\n",
       "      <td>Scotland</td>\n",
       "      <td>False</td>\n",
       "      <td>1.0</td>\n",
       "      <td>1874</td>\n",
       "      <td>1.0</td>\n",
       "    </tr>\n",
       "    <tr>\n",
       "      <th>3</th>\n",
       "      <td>1875-03-06</td>\n",
       "      <td>England</td>\n",
       "      <td>Scotland</td>\n",
       "      <td>2.0</td>\n",
       "      <td>2.0</td>\n",
       "      <td>Friendly</td>\n",
       "      <td>London</td>\n",
       "      <td>England</td>\n",
       "      <td>False</td>\n",
       "      <td>0.0</td>\n",
       "      <td>1875</td>\n",
       "      <td>0.5</td>\n",
       "    </tr>\n",
       "    <tr>\n",
       "      <th>4</th>\n",
       "      <td>1876-03-04</td>\n",
       "      <td>Scotland</td>\n",
       "      <td>England</td>\n",
       "      <td>3.0</td>\n",
       "      <td>0.0</td>\n",
       "      <td>Friendly</td>\n",
       "      <td>Glasgow</td>\n",
       "      <td>Scotland</td>\n",
       "      <td>False</td>\n",
       "      <td>3.0</td>\n",
       "      <td>1876</td>\n",
       "      <td>1.0</td>\n",
       "    </tr>\n",
       "  </tbody>\n",
       "</table>\n",
       "</div>"
      ],
      "text/plain": [
       "         date home_team away_team  home_score  away_score tournament     city  \\\n",
       "0  1872-11-30  Scotland   England         0.0         0.0   Friendly  Glasgow   \n",
       "1  1873-03-08   England  Scotland         4.0         2.0   Friendly   London   \n",
       "2  1874-03-07  Scotland   England         2.0         1.0   Friendly  Glasgow   \n",
       "3  1875-03-06   England  Scotland         2.0         2.0   Friendly   London   \n",
       "4  1876-03-04  Scotland   England         3.0         0.0   Friendly  Glasgow   \n",
       "\n",
       "    country  neutral  goal_diff  year  result  \n",
       "0  Scotland    False        0.0  1872     0.5  \n",
       "1   England    False        2.0  1873     1.0  \n",
       "2  Scotland    False        1.0  1874     1.0  \n",
       "3   England    False        0.0  1875     0.5  \n",
       "4  Scotland    False        3.0  1876     1.0  "
      ]
     },
     "execution_count": 9,
     "metadata": {},
     "output_type": "execute_result"
    }
   ],
   "source": [
    "data.head(5)"
   ]
  },
  {
   "cell_type": "markdown",
   "id": "636001fb",
   "metadata": {},
   "source": [
    "---"
   ]
  },
  {
   "cell_type": "markdown",
   "id": "f56b036d",
   "metadata": {},
   "source": [
    "## Calculating ELO scores"
   ]
  },
  {
   "cell_type": "markdown",
   "id": "062782ff",
   "metadata": {},
   "source": [
    "### Define multipliers used to calculate ELO scores"
   ]
  },
  {
   "cell_type": "code",
   "execution_count": 10,
   "id": "551dd7e6",
   "metadata": {},
   "outputs": [],
   "source": [
    "def return_multiplier(tournament_type):\n",
    "    \n",
    "    tournament_type = tournament_type.upper()\n",
    "    \n",
    "    world = ['FIFA World Cup qualification', 'UEFA Euro qualification', \n",
    "             'AFC Asian Cup qualification', 'African Cup of Nations qualification', \n",
    "             'Gold Cup qualification', 'Copa América qualification', \n",
    "             'Oceania Nations Cup qualification']\n",
    "    world = [i.upper() for i in world]\n",
    "    \n",
    "    nations_cups = ['AFC ASIAN CUP', 'Gold Cup', 'Copa América', 'Oceania Nations Cup', 'African Cup of Nations', 'UEFA Euro']    \n",
    "    nations_cups = [i.upper() for i in nations_cups]\n",
    "    \n",
    "    group_30 = ['UEFA Nations League', 'African Nations Championship', 'CONCACAF Nations League']\n",
    "    group_30 = [i.upper() for i in group_30]\n",
    "    \n",
    "    if tournament_type == 'FIFA WORLD CUP':\n",
    "        return 60\n",
    "        \n",
    "    elif tournament_type in nations_cups:\n",
    "        return 50\n",
    "        \n",
    "    elif tournament_type in world:\n",
    "        return 40\n",
    "        \n",
    "    elif tournament_type in group_30:\n",
    "        return 30\n",
    "    \n",
    "    else:\n",
    "        return 20\n",
    "    "
   ]
  },
  {
   "cell_type": "code",
   "execution_count": 11,
   "id": "de318ec2",
   "metadata": {},
   "outputs": [],
   "source": [
    "def return_goal_multiplier(goal_difference):\n",
    "    \n",
    "    if goal_difference == 2:\n",
    "        return 1.5\n",
    "    \n",
    "    elif goal_difference == 3:\n",
    "        return 1.75\n",
    "    \n",
    "    elif goal_difference >= 4:\n",
    "        return (0.75 + (goal_difference - 3)/8)\n",
    "    \n",
    "    else:\n",
    "        return 1\n",
    "    "
   ]
  },
  {
   "cell_type": "markdown",
   "id": "59100c79",
   "metadata": {},
   "source": [
    "### Create function that returns the ELO score"
   ]
  },
  {
   "cell_type": "code",
   "execution_count": 12,
   "id": "92860bca",
   "metadata": {},
   "outputs": [],
   "source": [
    "def score(points_of_home_team, points_of_away_team, result_from_perspective_of_ht, tournament_type, goal_diff):\n",
    "    \n",
    "    tournament_multiplier = return_multiplier(tournament_type)\n",
    "    goal_multiplier = return_goal_multiplier(goal_diff)\n",
    "    multiplier = tournament_multiplier * goal_multiplier\n",
    "    \n",
    "    expected_for_x = 1 / (10**(-(points_of_home_team - points_of_away_team)/400) + 1)\n",
    "    expected_for_y = 1 / (10**(-(points_of_away_team - points_of_home_team)/400) + 1)\n",
    "    \n",
    "    change_x = multiplier * (result_from_perspective_of_ht - expected_for_x)\n",
    "    change_y = multiplier * ((1 - result_from_perspective_of_ht) - expected_for_y)\n",
    "    \n",
    "    return points_of_home_team + change_x, points_of_away_team + change_y, expected_for_x, expected_for_y\n"
   ]
  },
  {
   "cell_type": "markdown",
   "id": "488400c4",
   "metadata": {},
   "source": [
    "### Implement ELO ranking in the dataset"
   ]
  },
  {
   "cell_type": "code",
   "execution_count": 13,
   "id": "714fa0c6",
   "metadata": {},
   "outputs": [],
   "source": [
    "score_dict = dict()\n",
    "\n",
    "for team in teams:\n",
    "    score_dict[team] = 1500\n",
    "\n",
    "for n in range(data.shape[0]):\n",
    "    data.loc[n, 'home_team_elo_before'] = score_dict[data.loc[n, 'home_team']]\n",
    "    data.loc[n, 'away_team_elo_before'] = score_dict[data.loc[n, 'away_team']]\n",
    "    \n",
    "    homes_points, away_points, calculated_prob_home, calculated_prob_away = score(data.loc[n, 'home_team_elo_before'], data.loc[n, 'away_team_elo_before'], data.loc[n, 'result'], data.loc[n, 'tournament'], data.loc[n, 'goal_diff'])\n",
    "    \n",
    "    data.loc[n, 'home_team_elo_after'] = homes_points\n",
    "    data.loc[n,'away_team_elo_after'] = away_points\n",
    "    \n",
    "    score_dict[data.loc[n, 'home_team']]= homes_points\n",
    "    score_dict[data.loc[n, 'away_team']] = away_points\n",
    "    \n",
    "    data.loc[n,'calculated_home_win_prob'] = calculated_prob_home\n",
    "    data.loc[n,'calculated_away_win_prob'] = calculated_prob_away\n",
    "    "
   ]
  },
  {
   "cell_type": "markdown",
   "id": "24bd8853",
   "metadata": {},
   "source": [
    "### Current ELO ranking"
   ]
  },
  {
   "cell_type": "code",
   "execution_count": 14,
   "id": "5d535dfb",
   "metadata": {},
   "outputs": [
    {
     "name": "stdout",
     "output_type": "stream",
     "text": [
      "                                    ELO Score  Position\n",
      "Brazil                            2154.211982         1\n",
      "Argentina                         2112.967397         2\n",
      "Belgium                           2034.844380         3\n",
      "Spain                             2025.615129         4\n",
      "Netherlands                       2019.058357         5\n",
      "Italy                             2001.974399         6\n",
      "France                            1996.275743         7\n",
      "England                           1983.093316         8\n",
      "Portugal                          1974.411935         9\n",
      "Germany                           1964.970772        10\n",
      "Denmark                           1947.070760        11\n",
      "Switzerland                       1937.365009        12\n",
      "Uruguay                           1928.308774        13\n",
      "Colombia                          1921.226037        14\n",
      "Croatia                           1902.742927        15\n",
      "South Korea                       1893.255846        16\n",
      "Japan                             1890.809753        17\n",
      "Iran                              1888.452197        18\n",
      "Serbia                            1869.110025        19\n",
      "Peru                              1865.234370        20\n",
      "United States                     1864.039731        21\n",
      "Mexico                            1856.234253        22\n",
      "Ecuador                           1843.075741        23\n",
      "Morocco                           1838.451971        24\n",
      "Poland                            1835.873429        25\n",
      "Canada                            1831.696545        26\n",
      "Senegal                           1831.627147        27\n",
      "Wales                             1826.735718        28\n",
      "Costa Rica                        1809.296829        29\n",
      "Hungary                           1807.417026        30\n",
      "Czech Republic                    1800.753290        31\n",
      "Ukraine                           1799.874234        32\n",
      "Australia                         1785.377668        33\n",
      "Russia                            1780.197676        34\n",
      "Algeria                           1775.657423        35\n",
      "Scotland                          1770.659504        36\n",
      "Yugoslavia                        1766.015662        37\n",
      "Saudi Arabia                      1765.506546        38\n",
      "Paraguay                          1760.478988        39\n",
      "Basque Country                    1752.999113        40\n",
      "Sweden                            1749.319737        41\n",
      "Qatar                             1747.819315        42\n",
      "Norway                            1733.976516        43\n",
      "Panama                            1733.759057        44\n",
      "Ivory Coast                       1733.246588        45\n",
      "Chile                             1733.180170        46\n",
      "Austria                           1730.466118        47\n",
      "Tunisia                           1730.209899        48\n",
      "Greece                            1715.552578        49\n",
      "Egypt                             1710.807037        50\n",
      "Republic of Ireland               1709.423115        51\n",
      "Czechoslovakia                    1706.491754        52\n",
      "Nigeria                           1704.335267        53\n",
      "Cameroon                          1703.523323        54\n",
      "Turkey                            1700.405079        55\n",
      "Jersey                            1692.128852        56\n",
      "Mali                              1689.440956        57\n",
      "Finland                           1687.030008        58\n",
      "Jordan                            1684.932176        59\n",
      "Georgia                           1680.755226        60\n",
      "Venezuela                         1677.260415        61\n",
      "Catalonia                         1670.746310        62\n",
      "Oman                              1668.781387        63\n",
      "Uzbekistan                        1668.450657        64\n",
      "Iraq                              1667.517125        65\n",
      "German DR                         1664.595841        66\n",
      "Burkina Faso                      1659.338498        67\n",
      "United Arab Emirates              1658.080134        68\n",
      "Guernsey                          1657.509553        69\n",
      "Romania                           1656.687683        70\n",
      "New Zealand                       1654.036283        71\n",
      "Slovenia                          1645.290995        72\n",
      "Bosnia and Herzegovina            1636.694082        73\n",
      "Ghana                             1634.821925        74\n",
      "Israel                            1631.776712        75\n",
      "Padania                           1630.098956        76\n",
      "Jamaica                           1627.377267        77\n",
      "Slovakia                          1619.029973        78\n",
      "Isle of Man                       1616.993494        79\n",
      "Northern Cyprus                   1615.107114        80\n",
      "South Africa                      1613.638303        81\n",
      "Haiti                             1613.077017        82\n",
      "Bahrain                           1612.354447        83\n",
      "Andalusia                         1611.297782        84\n",
      "Bolivia                           1609.737255        85\n",
      "North Macedonia                   1605.266921        86\n",
      "Iceland                           1596.805837        87\n",
      "Northern Ireland                  1589.413671        88\n",
      "Iraqi Kurdistan                   1581.684672        89\n",
      "Abkhazia                          1580.284438        90\n",
      "El Salvador                       1579.006486        91\n",
      "Réunion                           1577.761173        92\n",
      "Albania                           1577.597790        93\n",
      "Cape Verde                        1575.264249        94\n",
      "Ynys Môn                          1572.380484        95\n",
      "China PR                          1570.670584        96\n",
      "Gabon                             1569.652316        97\n",
      "Montenegro                        1566.012697        98\n",
      "Kárpátalja                        1561.269570        99\n",
      "Corsica                           1560.912368       100\n",
      "Guatemala                         1559.379334       101\n",
      "Vietnam                           1559.195696       102\n",
      "Kernow                            1558.569669       103\n",
      "Isle of Wight                     1558.431322       104\n",
      "Menorca                           1556.403798       105\n",
      "Bulgaria                          1556.100880       106\n",
      "County of Nice                    1555.311521       107\n",
      "Rhodes                            1554.703167       108\n",
      "Galicia                           1552.936909       109\n",
      "Kosovo                            1545.938978       110\n",
      "Syria                             1542.826696       111\n",
      "Artsakh                           1541.405357       112\n",
      "Yorkshire                         1537.236750       113\n",
      "DR Congo                          1535.936855       114\n",
      "Honduras                          1533.024534       115\n",
      "Solomon Islands                   1531.183867       116\n",
      "Brittany                          1530.405754       117\n",
      "Occitania                         1530.097409       118\n",
      "Ellan Vannin                      1525.431060       119\n",
      "Equatorial Guinea                 1523.139843       120\n",
      "Åland Islands                     1520.133408       121\n",
      "Maule Sur                         1519.269324       122\n",
      "Palestine                         1518.922516       123\n",
      "Chameria                          1516.515230       124\n",
      "Asturias                          1516.468331       125\n",
      "Arameans Suryoye                  1515.810810       126\n",
      "Canary Islands                    1515.524246       127\n",
      "Armenia                           1514.897882       128\n",
      "Mauritania                        1514.539776       129\n",
      "Surrey                            1514.292573       130\n",
      "Gambia                            1513.101646       131\n",
      "Panjab                            1512.926994       132\n",
      "Cascadia                          1512.765473       133\n",
      "French Guiana                     1512.237712       134\n",
      "Zambia                            1510.996893       135\n",
      "Biafra                            1510.669998       136\n",
      "Parishes of Jersey                1510.380062       137\n",
      "Silesia                           1507.869384       138\n",
      "North Korea                       1506.593784       139\n",
      "Thailand                          1505.588419       140\n",
      "Mapuche                           1505.431616       141\n",
      "Sápmi                             1505.269853       142\n",
      "Kenya                             1504.473413       143\n",
      "Matabeleland                      1501.456326       144\n",
      "Crimea                            1499.831736       145\n",
      "Martinique                        1498.646791       146\n",
      "Felvidék                          1497.122627       147\n",
      "Trinidad and Tobago               1496.414055       148\n",
      "Romani people                     1495.574015       149\n",
      "Benin                             1495.124468       150\n",
      "Somaliland                        1493.550807       151\n",
      "Central Spain                     1493.508288       152\n",
      "Monaco                            1493.100505       153\n",
      "Madrid                            1492.912591       154\n",
      "Angola                            1492.404491       155\n",
      "Western Sahara                    1490.839571       156\n",
      "Western Armenia                   1490.583364       157\n",
      "Yoruba Nation                     1489.766696       158\n",
      "Uganda                            1487.935071       159\n",
      "Republic of St. Pauli             1487.657714       160\n",
      "Greenland                         1480.631708       161\n",
      "United Koreans in Japan           1479.661431       162\n",
      "New Caledonia                     1479.402218       163\n",
      "Fiji                              1477.650131       164\n",
      "Curaçao                           1476.304703       165\n",
      "Kabylia                           1475.390722       166\n",
      "Aymara                            1475.299061       167\n",
      "Papua New Guinea                  1475.145324       168\n",
      "Guinea                            1474.298399       169\n",
      "Suriname                          1474.187673       170\n",
      "Lebanon                           1474.163681       171\n",
      "Brunei Darussalam                 1472.243961       172\n",
      "South Ossetia                     1470.682634       173\n",
      "Luxembourg                        1468.919167       174\n",
      "Two Sicilies                      1465.835518       175\n",
      "Tahiti                            1464.403749       176\n",
      "Găgăuzia                          1464.252228       177\n",
      "Namibia                           1464.105624       178\n",
      "Estonia                           1461.452642       179\n",
      "Palau                             1460.487055       180\n",
      "Malaysia                          1459.607997       181\n",
      "Saint Helena                      1459.603979       182\n",
      "Manchukuo                         1459.592226       183\n",
      "Guinea-Bissau                     1458.109941       184\n",
      "Gozo                              1457.271398       185\n",
      "Saarland                          1456.561659       186\n",
      "Ethiopia                          1455.940118       187\n",
      "Niue                              1454.497422       188\n",
      "Tajikistan                        1454.257258       189\n",
      "Togo                              1453.445890       190\n",
      "Provence                          1453.263543       191\n",
      "Kyrgyzstan                        1452.617630       192\n",
      "Libya                             1451.867182       193\n",
      "Vanuatu                           1451.249938       194\n",
      "Zanzibar                          1450.850369       195\n",
      "North Vietnam                     1450.738109       196\n",
      "Gotland                           1449.498198       197\n",
      "Székely Land                      1449.297229       198\n",
      "Barawa                            1448.812569       199\n",
      "Madagascar                        1447.000294       200\n",
      "Guadeloupe                        1445.835087       201\n",
      "Vatican City                      1441.864442       202\n",
      "Raetia                            1441.301615       203\n",
      "Zimbabwe                          1440.697525       204\n",
      "Shetland                          1439.802060       205\n",
      "Belarus                           1438.334510       206\n",
      "Kazakhstan                        1437.491180       207\n",
      "Tanzania                          1435.411308       208\n",
      "Western Isles                     1434.437581       209\n",
      "Tamil Eelam                       1432.964603       210\n",
      "Mayotte                           1432.695095       211\n",
      "Congo                             1432.032069       212\n",
      "Mozambique                        1427.082602       213\n",
      "Kuwait                            1425.101643       214\n",
      "Malawi                            1423.798032       215\n",
      "Western Australia                 1418.042649       216\n",
      "Nicaragua                         1417.016561       217\n",
      "Azerbaijan                        1415.255663       218\n",
      "Orkney                            1413.891693       219\n",
      "India                             1412.095349       220\n",
      "Rwanda                            1411.282924       221\n",
      "Turkmenistan                      1408.407824       222\n",
      "Sudan                             1408.167913       223\n",
      "Bermuda                           1407.479742       224\n",
      "Cuba                              1406.903833       225\n",
      "Indonesia                         1406.508041       226\n",
      "Sierra Leone                      1404.339683       227\n",
      "Sark                              1401.489707       228\n",
      "Chagos Islands                    1401.467133       229\n",
      "Niger                             1400.686380       230\n",
      "Cyprus                            1398.760786       231\n",
      "Vietnam Republic                  1397.449865       232\n",
      "Dominican Republic                1396.156404       233\n",
      "Latvia                            1395.663877       234\n",
      "Bonaire                           1394.202724       235\n",
      "Comoros                           1393.529723       236\n",
      "Hitra                             1392.281619       237\n",
      "Micronesia                        1391.573167       238\n",
      "Botswana                          1383.265509       239\n",
      "Darfur                            1377.026025       240\n",
      "Saint Kitts and Nevis             1374.225032       241\n",
      "Wallis Islands and Futuna         1373.177755       242\n",
      "Burundi                           1371.286548       243\n",
      "Alderney                          1371.083014       244\n",
      "Antigua and Barbuda               1370.838172       245\n",
      "Liberia                           1369.362726       246\n",
      "Saare County                      1364.608293       247\n",
      "Hong Kong                         1363.297477       248\n",
      "Yemen DPR                         1359.788501       249\n",
      "Tibet                             1356.432272       250\n",
      "Guyana                            1354.714429       251\n",
      "Puerto Rico                       1353.039841       252\n",
      "Central African Republic          1350.270903       253\n",
      "Lesotho                           1345.352021       254\n",
      "Eswatini                          1343.325964       255\n",
      "Malta                             1342.915951       256\n",
      "Faroe Islands                     1342.287706       257\n",
      "Saint Pierre and Miquelon         1337.189963       258\n",
      "Frøya                             1330.417134       259\n",
      "Falkland Islands                  1329.667466       260\n",
      "Philippines                       1329.333094       261\n",
      "Singapore                         1326.239424       262\n",
      "Lithuania                         1323.799609       263\n",
      "Saint Vincent and the Grenadines  1321.010590       264\n",
      "Kiribati                          1319.602005       265\n",
      "Montserrat                        1317.016674       266\n",
      "Tuvalu                            1306.509454       267\n",
      "Saint Lucia                       1298.495625       268\n",
      "Moldova                           1296.965692       269\n",
      "Chad                              1291.117541       270\n",
      "Bahamas                           1282.446787       271\n",
      "Sint Maarten                      1281.164016       272\n",
      "Grenada                           1280.919559       273\n",
      "Belize                            1272.912461       274\n",
      "Samoa                             1271.782181       275\n",
      "Afghanistan                       1270.598387       276\n",
      "Cook Islands                      1256.298429       277\n",
      "Dominica                          1254.435264       278\n",
      "Saint Martin                      1250.900486       279\n",
      "Aruba                             1247.788634       280\n",
      "Maldives                          1247.039435       281\n",
      "South Sudan                       1244.953114       282\n",
      "Yemen                             1242.253594       283\n",
      "Turks and Caicos Islands          1232.172281       284\n",
      "Barbados                          1227.707261       285\n",
      "Eritrea                           1219.410601       286\n",
      "American Samoa                    1215.497784       287\n",
      "Myanmar                           1209.619648       288\n",
      "Andorra                           1198.848392       289\n",
      "São Tomé and Príncipe             1189.690561       290\n",
      "Mauritius                         1186.746879       291\n",
      "Nepal                             1185.241511       292\n",
      "Mongolia                          1184.616243       293\n",
      "Gibraltar                         1182.653804       294\n",
      "Northern Mariana Islands          1180.446268       295\n",
      "Cayman Islands                    1171.876381       296\n",
      "Tonga                             1162.589603       297\n",
      "Taiwan                            1158.641614       298\n",
      "Cambodia                          1140.316016       299\n",
      "United States Virgin Islands      1117.484597       300\n",
      "Bangladesh                        1108.144597       301\n",
      "Seychelles                        1098.202570       302\n",
      "Liechtenstein                     1092.100745       303\n",
      "Djibouti                          1087.775424       304\n",
      "Pakistan                          1081.543595       305\n",
      "British Virgin Islands            1075.050602       306\n",
      "Somalia                           1065.901816       307\n",
      "Laos                              1057.276387       308\n",
      "Guam                              1056.697645       309\n",
      "Anguilla                          1035.473694       310\n",
      "Macau                             1030.594416       311\n",
      "Sri Lanka                         1019.227598       312\n",
      "Brunei                            1014.756698       313\n",
      "Timor-Leste                        967.249076       314\n",
      "Bhutan                             965.626225       315\n",
      "San Marino                         910.740823       316\n"
     ]
    }
   ],
   "source": [
    "with pd.option_context('display.max_rows', None, 'display.max_columns', None): \n",
    "    df = pd.DataFrame.from_dict(score_dict, orient = \"index\").sort_values(0, ascending = False)\n",
    "    df['Position'] = range(1, len(df) + 1)\n",
    "    df.columns = ['ELO Score', 'Position']\n",
    "    print(df)"
   ]
  },
  {
   "cell_type": "markdown",
   "id": "3e9dea06",
   "metadata": {},
   "source": [
    "### Data with ELO implemented"
   ]
  },
  {
   "cell_type": "code",
   "execution_count": 15,
   "id": "2fffd089",
   "metadata": {},
   "outputs": [
    {
     "data": {
      "text/html": [
       "<div>\n",
       "<style scoped>\n",
       "    .dataframe tbody tr th:only-of-type {\n",
       "        vertical-align: middle;\n",
       "    }\n",
       "\n",
       "    .dataframe tbody tr th {\n",
       "        vertical-align: top;\n",
       "    }\n",
       "\n",
       "    .dataframe thead th {\n",
       "        text-align: right;\n",
       "    }\n",
       "</style>\n",
       "<table border=\"1\" class=\"dataframe\">\n",
       "  <thead>\n",
       "    <tr style=\"text-align: right;\">\n",
       "      <th></th>\n",
       "      <th>date</th>\n",
       "      <th>home_team</th>\n",
       "      <th>away_team</th>\n",
       "      <th>home_score</th>\n",
       "      <th>away_score</th>\n",
       "      <th>tournament</th>\n",
       "      <th>city</th>\n",
       "      <th>country</th>\n",
       "      <th>neutral</th>\n",
       "      <th>goal_diff</th>\n",
       "      <th>year</th>\n",
       "      <th>result</th>\n",
       "      <th>home_team_elo_before</th>\n",
       "      <th>away_team_elo_before</th>\n",
       "      <th>home_team_elo_after</th>\n",
       "      <th>away_team_elo_after</th>\n",
       "      <th>calculated_home_win_prob</th>\n",
       "      <th>calculated_away_win_prob</th>\n",
       "    </tr>\n",
       "  </thead>\n",
       "  <tbody>\n",
       "    <tr>\n",
       "      <th>44054</th>\n",
       "      <td>2022-09-27</td>\n",
       "      <td>Albania</td>\n",
       "      <td>Iceland</td>\n",
       "      <td>1.0</td>\n",
       "      <td>1.0</td>\n",
       "      <td>UEFA Nations League</td>\n",
       "      <td>Tirana</td>\n",
       "      <td>Albania</td>\n",
       "      <td>False</td>\n",
       "      <td>0.0</td>\n",
       "      <td>2022</td>\n",
       "      <td>0.5</td>\n",
       "      <td>1576.691349</td>\n",
       "      <td>1597.712278</td>\n",
       "      <td>1577.597790</td>\n",
       "      <td>1596.805837</td>\n",
       "      <td>0.469785</td>\n",
       "      <td>0.530215</td>\n",
       "    </tr>\n",
       "    <tr>\n",
       "      <th>44055</th>\n",
       "      <td>2022-09-27</td>\n",
       "      <td>Norway</td>\n",
       "      <td>Serbia</td>\n",
       "      <td>0.0</td>\n",
       "      <td>2.0</td>\n",
       "      <td>UEFA Nations League</td>\n",
       "      <td>Oslo</td>\n",
       "      <td>Norway</td>\n",
       "      <td>False</td>\n",
       "      <td>2.0</td>\n",
       "      <td>2022</td>\n",
       "      <td>0.0</td>\n",
       "      <td>1749.988486</td>\n",
       "      <td>1853.098055</td>\n",
       "      <td>1733.976516</td>\n",
       "      <td>1869.110025</td>\n",
       "      <td>0.355822</td>\n",
       "      <td>0.644178</td>\n",
       "    </tr>\n",
       "    <tr>\n",
       "      <th>44056</th>\n",
       "      <td>2022-09-27</td>\n",
       "      <td>Sweden</td>\n",
       "      <td>Slovenia</td>\n",
       "      <td>1.0</td>\n",
       "      <td>1.0</td>\n",
       "      <td>UEFA Nations League</td>\n",
       "      <td>Stockholm</td>\n",
       "      <td>Sweden</td>\n",
       "      <td>False</td>\n",
       "      <td>0.0</td>\n",
       "      <td>2022</td>\n",
       "      <td>0.5</td>\n",
       "      <td>1754.052523</td>\n",
       "      <td>1640.558209</td>\n",
       "      <td>1749.319737</td>\n",
       "      <td>1645.290995</td>\n",
       "      <td>0.657760</td>\n",
       "      <td>0.342240</td>\n",
       "    </tr>\n",
       "    <tr>\n",
       "      <th>44057</th>\n",
       "      <td>2022-09-27</td>\n",
       "      <td>Kosovo</td>\n",
       "      <td>Cyprus</td>\n",
       "      <td>5.0</td>\n",
       "      <td>1.0</td>\n",
       "      <td>UEFA Nations League</td>\n",
       "      <td>Pristina</td>\n",
       "      <td>Kosovo</td>\n",
       "      <td>False</td>\n",
       "      <td>4.0</td>\n",
       "      <td>2022</td>\n",
       "      <td>1.0</td>\n",
       "      <td>1537.519066</td>\n",
       "      <td>1407.180698</td>\n",
       "      <td>1545.938978</td>\n",
       "      <td>1398.760786</td>\n",
       "      <td>0.679241</td>\n",
       "      <td>0.320759</td>\n",
       "    </tr>\n",
       "    <tr>\n",
       "      <th>44058</th>\n",
       "      <td>2022-09-27</td>\n",
       "      <td>Greece</td>\n",
       "      <td>Northern Ireland</td>\n",
       "      <td>3.0</td>\n",
       "      <td>1.0</td>\n",
       "      <td>UEFA Nations League</td>\n",
       "      <td>Athens</td>\n",
       "      <td>Greece</td>\n",
       "      <td>False</td>\n",
       "      <td>2.0</td>\n",
       "      <td>2022</td>\n",
       "      <td>1.0</td>\n",
       "      <td>1698.928897</td>\n",
       "      <td>1606.037352</td>\n",
       "      <td>1715.552578</td>\n",
       "      <td>1589.413671</td>\n",
       "      <td>0.630585</td>\n",
       "      <td>0.369415</td>\n",
       "    </tr>\n",
       "  </tbody>\n",
       "</table>\n",
       "</div>"
      ],
      "text/plain": [
       "             date home_team         away_team  home_score  away_score  \\\n",
       "44054  2022-09-27   Albania           Iceland         1.0         1.0   \n",
       "44055  2022-09-27    Norway            Serbia         0.0         2.0   \n",
       "44056  2022-09-27    Sweden          Slovenia         1.0         1.0   \n",
       "44057  2022-09-27    Kosovo            Cyprus         5.0         1.0   \n",
       "44058  2022-09-27    Greece  Northern Ireland         3.0         1.0   \n",
       "\n",
       "                tournament       city  country  neutral  goal_diff  year  \\\n",
       "44054  UEFA Nations League     Tirana  Albania    False        0.0  2022   \n",
       "44055  UEFA Nations League       Oslo   Norway    False        2.0  2022   \n",
       "44056  UEFA Nations League  Stockholm   Sweden    False        0.0  2022   \n",
       "44057  UEFA Nations League   Pristina   Kosovo    False        4.0  2022   \n",
       "44058  UEFA Nations League     Athens   Greece    False        2.0  2022   \n",
       "\n",
       "       result  home_team_elo_before  away_team_elo_before  \\\n",
       "44054     0.5           1576.691349           1597.712278   \n",
       "44055     0.0           1749.988486           1853.098055   \n",
       "44056     0.5           1754.052523           1640.558209   \n",
       "44057     1.0           1537.519066           1407.180698   \n",
       "44058     1.0           1698.928897           1606.037352   \n",
       "\n",
       "       home_team_elo_after  away_team_elo_after  calculated_home_win_prob  \\\n",
       "44054          1577.597790          1596.805837                  0.469785   \n",
       "44055          1733.976516          1869.110025                  0.355822   \n",
       "44056          1749.319737          1645.290995                  0.657760   \n",
       "44057          1545.938978          1398.760786                  0.679241   \n",
       "44058          1715.552578          1589.413671                  0.630585   \n",
       "\n",
       "       calculated_away_win_prob  \n",
       "44054                  0.530215  \n",
       "44055                  0.644178  \n",
       "44056                  0.342240  \n",
       "44057                  0.320759  \n",
       "44058                  0.369415  "
      ]
     },
     "execution_count": 15,
     "metadata": {},
     "output_type": "execute_result"
    }
   ],
   "source": [
    "data.tail(5)"
   ]
  },
  {
   "cell_type": "markdown",
   "id": "fd45e641",
   "metadata": {},
   "source": [
    "---"
   ]
  },
  {
   "cell_type": "markdown",
   "id": "e0da73ed",
   "metadata": {},
   "source": [
    "## Dataset analysis"
   ]
  },
  {
   "cell_type": "markdown",
   "id": "f867fc4c",
   "metadata": {},
   "source": [
    "### Calculated home team win probabilities vs real match results"
   ]
  },
  {
   "cell_type": "code",
   "execution_count": 16,
   "id": "f81d0758",
   "metadata": {},
   "outputs": [
    {
     "data": {
      "image/png": "[encoded data removed]",
      "text/plain": [
       "<Figure size 700x500 with 1 Axes>"
      ]
     },
     "metadata": {},
     "output_type": "display_data"
    }
   ],
   "source": [
    "data_loose = data.calculated_home_win_prob[data.result == 0]\n",
    "data_draw = data.calculated_home_win_prob[data.result == 0.5]\n",
    "data_win = data.calculated_home_win_prob[data.result == 1]\n",
    "\n",
    "to_plot = [data_loose, data_draw, data_win]\n",
    " \n",
    "fig = plt.figure(figsize = (7, 5))\n",
    "ax = fig.add_axes([0, 0, 1, 1])\n",
    "ax.set_xticklabels(['Lost matches', 'Tied matches', 'Won matches'])\n",
    "bp = ax.boxplot(to_plot)"
   ]
  },
  {
   "cell_type": "markdown",
   "id": "7c54e27a",
   "metadata": {},
   "source": [
    "### Calculated teams' ELO scores vs real match results"
   ]
  },
  {
   "cell_type": "code",
   "execution_count": 17,
   "id": "bf94c874",
   "metadata": {},
   "outputs": [
    {
     "data": {
      "text/plain": [
       "<matplotlib.legend.Legend at 0x7fba384ed6d0>"
      ]
     },
     "execution_count": 17,
     "metadata": {},
     "output_type": "execute_result"
    },
    {
     "data": {
      "image/png": "[encoded data removed]",
      "text/plain": [
       "<Figure size 640x480 with 1 Axes>"
      ]
     },
     "metadata": {},
     "output_type": "display_data"
    }
   ],
   "source": [
    "plt.scatter(data.home_team_elo_before[(data.result==1) & (data.neutral==True)], data.away_team_elo_before[(data.result==1) & (data.neutral==True)], s=1, alpha = 0.3)\n",
    "plt.scatter(data.home_team_elo_before[(data.result==0) & (data.neutral==True)], data.away_team_elo_before[(data.result==0) & (data.neutral==True)], s=1, alpha = 0.3)\n",
    "plt.scatter(data.home_team_elo_before[(data.result==0.5) & (data.neutral==True)], data.away_team_elo_before[(data.result==0.5) & (data.neutral==True)], s=1, alpha = 0.3)\n",
    "plt.axline((0, 0), slope = 1, linestyle = '--',linewidth = 1, color = \"red\")\n",
    "plt.xlim([800, 2300])\n",
    "plt.ylim([800, 2300])\n",
    "plt.ylabel(\"Away team ELO score\")\n",
    "plt.xlabel(\"Home team ELO score\")\n",
    "plt.legend(['Home win', 'Away win', 'Draw'], markerscale = 6)"
   ]
  },
  {
   "cell_type": "markdown",
   "id": "c9b11a02",
   "metadata": {},
   "source": [
    "---"
   ]
  },
  {
   "cell_type": "markdown",
   "id": "bc76de32",
   "metadata": {},
   "source": [
    "## Pre-modeling data preparation"
   ]
  },
  {
   "cell_type": "markdown",
   "id": "1e3b5391",
   "metadata": {},
   "source": [
    "### Cleaning not internationally recognized teams"
   ]
  },
  {
   "cell_type": "code",
   "execution_count": 18,
   "id": "0cf09865",
   "metadata": {},
   "outputs": [],
   "source": [
    "to_delete = ['Abkhazia', 'Åland Islands', 'Alderney', 'Andalusia', 'Arameans Suryoye', 'Artsakh', 'Asturias', 'Aymara',\n",
    "             'Barawa', 'Basque Country', 'Biafra', 'Brittany', 'Canary Islands', 'Cascadia', 'Catalonia', 'Central Spain',\n",
    "            'Bonaire', 'Chagos Islands', 'Chameria', 'Corsica', 'County of Nice', 'Crimea', 'Darfur', 'Ellan Vannin',\n",
    "            'Falkland Islands', 'Felvidék', 'French Guiana', 'Frøya', 'Găgăuzia', 'Galicia', 'Gotland', 'Gozo', 'Greenland',\n",
    "            'Guadeloupe', 'Guernsey', 'Hitra', 'Iraqi Kurdistan', 'Isle of Man', 'Isle of Wight', 'Jersey', 'Kabylia',\n",
    "            'Kárpátalja', 'Kernow', 'Macau', 'Madrid', 'Manchukuo', 'Mapuche', 'Matabeleland', 'Maule Sur', 'Mayotte',\n",
    "            'Menorca', 'Niue', 'Northern Cyprus', 'Northern Mariana Islands', 'Occitania', 'Orkney', 'Padania', 'Palestine',\n",
    "            'Panjab', 'Parishes of Jersey', 'Provence', 'Raetia', 'Republic of St. Pauli', 'Réunion', 'Rhodes', 'Romani people',\n",
    "            'Saare County', 'Saarland', 'Saint Helena', 'Saint Martin', 'Saint Pierre and Miquelon', 'Sápmi', 'Sark',\n",
    "            'Shetland', 'Silesia', 'Sint Maarten', 'Somaliland', 'South Ossetia', 'Surrey', 'Székely Land', 'Tamil Eelam',\n",
    "            'Tibet', 'Two Sicilies', 'United Koreans in Japan', 'Monaco', 'Wallis Islands and Futuna', 'Western Armenia',\n",
    "            'Western Australia', 'Western Isles', 'Western Sahara', 'Ynys Môn', 'Yorkshire', 'Yoruba Nation']"
   ]
  },
  {
   "cell_type": "code",
   "execution_count": 19,
   "id": "d2921098",
   "metadata": {},
   "outputs": [],
   "source": [
    "data_clean = data.copy()\n",
    "data_clean = data_clean.drop(data_clean[data_clean.home_team.isin(to_delete)].index)\n",
    "data_clean = data_clean.drop(data_clean[data_clean.away_team.isin(to_delete)].index)\n",
    "final = data_clean.copy()"
   ]
  },
  {
   "cell_type": "code",
   "execution_count": 20,
   "id": "c680d93c",
   "metadata": {},
   "outputs": [
    {
     "name": "stdout",
     "output_type": "stream",
     "text": [
      "Number of rows initially loaded: 44059\n",
      "Number of rows after cleaning: 42235\n"
     ]
    }
   ],
   "source": [
    "print(f\"Number of rows initially loaded: {data.shape[0]}\")\n",
    "print(f\"Number of rows after cleaning: {final.shape[0]}\")"
   ]
  },
  {
   "cell_type": "markdown",
   "id": "b146ef1e",
   "metadata": {},
   "source": [
    "### Creating interaction variable"
   ]
  },
  {
   "cell_type": "code",
   "execution_count": 21,
   "id": "4e010cb5",
   "metadata": {},
   "outputs": [],
   "source": [
    "final['multiplied_elo'] = final['home_team_elo_before'] * final['away_team_elo_before']"
   ]
  },
  {
   "cell_type": "markdown",
   "id": "699b0161",
   "metadata": {},
   "source": [
    "### Recoding target variable [0, 0.5, 1] -> [0, 1, 2]"
   ]
  },
  {
   "cell_type": "code",
   "execution_count": 22,
   "id": "cd4b0302",
   "metadata": {},
   "outputs": [],
   "source": [
    "final[\"result_recoded\"] = final[\"result\"] * 2 "
   ]
  },
  {
   "cell_type": "markdown",
   "id": "8e5cdd33",
   "metadata": {},
   "source": [
    "### Final dataset for modeling"
   ]
  },
  {
   "cell_type": "code",
   "execution_count": 23,
   "id": "c4d860cd",
   "metadata": {},
   "outputs": [
    {
     "data": {
      "text/html": [
       "<div>\n",
       "<style scoped>\n",
       "    .dataframe tbody tr th:only-of-type {\n",
       "        vertical-align: middle;\n",
       "    }\n",
       "\n",
       "    .dataframe tbody tr th {\n",
       "        vertical-align: top;\n",
       "    }\n",
       "\n",
       "    .dataframe thead th {\n",
       "        text-align: right;\n",
       "    }\n",
       "</style>\n",
       "<table border=\"1\" class=\"dataframe\">\n",
       "  <thead>\n",
       "    <tr style=\"text-align: right;\">\n",
       "      <th></th>\n",
       "      <th>date</th>\n",
       "      <th>home_team</th>\n",
       "      <th>away_team</th>\n",
       "      <th>home_score</th>\n",
       "      <th>away_score</th>\n",
       "      <th>tournament</th>\n",
       "      <th>city</th>\n",
       "      <th>country</th>\n",
       "      <th>neutral</th>\n",
       "      <th>goal_diff</th>\n",
       "      <th>year</th>\n",
       "      <th>result</th>\n",
       "      <th>home_team_elo_before</th>\n",
       "      <th>away_team_elo_before</th>\n",
       "      <th>home_team_elo_after</th>\n",
       "      <th>away_team_elo_after</th>\n",
       "      <th>calculated_home_win_prob</th>\n",
       "      <th>calculated_away_win_prob</th>\n",
       "      <th>multiplied_elo</th>\n",
       "      <th>result_recoded</th>\n",
       "    </tr>\n",
       "  </thead>\n",
       "  <tbody>\n",
       "    <tr>\n",
       "      <th>44056</th>\n",
       "      <td>2022-09-27</td>\n",
       "      <td>Sweden</td>\n",
       "      <td>Slovenia</td>\n",
       "      <td>1.0</td>\n",
       "      <td>1.0</td>\n",
       "      <td>UEFA Nations League</td>\n",
       "      <td>Stockholm</td>\n",
       "      <td>Sweden</td>\n",
       "      <td>False</td>\n",
       "      <td>0.0</td>\n",
       "      <td>2022</td>\n",
       "      <td>0.5</td>\n",
       "      <td>1754.052523</td>\n",
       "      <td>1640.558209</td>\n",
       "      <td>1749.319737</td>\n",
       "      <td>1645.290995</td>\n",
       "      <td>0.657760</td>\n",
       "      <td>0.342240</td>\n",
       "      <td>2.877625e+06</td>\n",
       "      <td>1.0</td>\n",
       "    </tr>\n",
       "    <tr>\n",
       "      <th>44057</th>\n",
       "      <td>2022-09-27</td>\n",
       "      <td>Kosovo</td>\n",
       "      <td>Cyprus</td>\n",
       "      <td>5.0</td>\n",
       "      <td>1.0</td>\n",
       "      <td>UEFA Nations League</td>\n",
       "      <td>Pristina</td>\n",
       "      <td>Kosovo</td>\n",
       "      <td>False</td>\n",
       "      <td>4.0</td>\n",
       "      <td>2022</td>\n",
       "      <td>1.0</td>\n",
       "      <td>1537.519066</td>\n",
       "      <td>1407.180698</td>\n",
       "      <td>1545.938978</td>\n",
       "      <td>1398.760786</td>\n",
       "      <td>0.679241</td>\n",
       "      <td>0.320759</td>\n",
       "      <td>2.163567e+06</td>\n",
       "      <td>2.0</td>\n",
       "    </tr>\n",
       "    <tr>\n",
       "      <th>44058</th>\n",
       "      <td>2022-09-27</td>\n",
       "      <td>Greece</td>\n",
       "      <td>Northern Ireland</td>\n",
       "      <td>3.0</td>\n",
       "      <td>1.0</td>\n",
       "      <td>UEFA Nations League</td>\n",
       "      <td>Athens</td>\n",
       "      <td>Greece</td>\n",
       "      <td>False</td>\n",
       "      <td>2.0</td>\n",
       "      <td>2022</td>\n",
       "      <td>1.0</td>\n",
       "      <td>1698.928897</td>\n",
       "      <td>1606.037352</td>\n",
       "      <td>1715.552578</td>\n",
       "      <td>1589.413671</td>\n",
       "      <td>0.630585</td>\n",
       "      <td>0.369415</td>\n",
       "      <td>2.728543e+06</td>\n",
       "      <td>2.0</td>\n",
       "    </tr>\n",
       "  </tbody>\n",
       "</table>\n",
       "</div>"
      ],
      "text/plain": [
       "             date home_team         away_team  home_score  away_score  \\\n",
       "44056  2022-09-27    Sweden          Slovenia         1.0         1.0   \n",
       "44057  2022-09-27    Kosovo            Cyprus         5.0         1.0   \n",
       "44058  2022-09-27    Greece  Northern Ireland         3.0         1.0   \n",
       "\n",
       "                tournament       city country  neutral  goal_diff  year  \\\n",
       "44056  UEFA Nations League  Stockholm  Sweden    False        0.0  2022   \n",
       "44057  UEFA Nations League   Pristina  Kosovo    False        4.0  2022   \n",
       "44058  UEFA Nations League     Athens  Greece    False        2.0  2022   \n",
       "\n",
       "       result  home_team_elo_before  away_team_elo_before  \\\n",
       "44056     0.5           1754.052523           1640.558209   \n",
       "44057     1.0           1537.519066           1407.180698   \n",
       "44058     1.0           1698.928897           1606.037352   \n",
       "\n",
       "       home_team_elo_after  away_team_elo_after  calculated_home_win_prob  \\\n",
       "44056          1749.319737          1645.290995                  0.657760   \n",
       "44057          1545.938978          1398.760786                  0.679241   \n",
       "44058          1715.552578          1589.413671                  0.630585   \n",
       "\n",
       "       calculated_away_win_prob  multiplied_elo  result_recoded  \n",
       "44056                  0.342240    2.877625e+06             1.0  \n",
       "44057                  0.320759    2.163567e+06             2.0  \n",
       "44058                  0.369415    2.728543e+06             2.0  "
      ]
     },
     "execution_count": 23,
     "metadata": {},
     "output_type": "execute_result"
    }
   ],
   "source": [
    "final.tail(3)"
   ]
  },
  {
   "cell_type": "markdown",
   "id": "05d77533",
   "metadata": {},
   "source": [
    "---"
   ]
  },
  {
   "cell_type": "markdown",
   "id": "6cd85776",
   "metadata": {},
   "source": [
    "## Modeling"
   ]
  },
  {
   "cell_type": "markdown",
   "id": "dafefce7",
   "metadata": {},
   "source": [
    "### Variable choice"
   ]
  },
  {
   "cell_type": "code",
   "execution_count": 24,
   "id": "fe996c26",
   "metadata": {},
   "outputs": [
    {
     "name": "stdout",
     "output_type": "stream",
     "text": [
      "Number of explanatory variables chosen: 3\n"
     ]
    }
   ],
   "source": [
    "target_variable = \"result_recoded\"\n",
    "explanatory_variables = ['home_team_elo_before', 'away_team_elo_before', 'multiplied_elo']\n",
    "\n",
    "y = final[target_variable]\n",
    "X = final[explanatory_variables] \n",
    "\n",
    "print(f\"Number of explanatory variables chosen: {X.shape[1]}\")"
   ]
  },
  {
   "cell_type": "markdown",
   "id": "0d3e86dd",
   "metadata": {},
   "source": [
    "### Choose a train/test spilt ratio"
   ]
  },
  {
   "cell_type": "code",
   "execution_count": 25,
   "id": "163a1723",
   "metadata": {},
   "outputs": [],
   "source": [
    "prop = 0.8"
   ]
  },
  {
   "cell_type": "markdown",
   "id": "9a7b2405",
   "metadata": {},
   "source": [
    "### Train/test datasets creation"
   ]
  },
  {
   "cell_type": "code",
   "execution_count": 26,
   "id": "f7d3a044",
   "metadata": {},
   "outputs": [
    {
     "name": "stdout",
     "output_type": "stream",
     "text": [
      "Train dataset length: 33788\n",
      "Test dataset length: 8447\n"
     ]
    }
   ],
   "source": [
    "cut = int(len(y) * prop)\n",
    "X_train, X_test, y_train, y_test = X[:cut], X[cut:], y[:cut], y[cut:]\n",
    "print(f\"Train dataset length: {len(y_train)}\")\n",
    "print(f\"Test dataset length: {len(y_test)}\")"
   ]
  },
  {
   "cell_type": "markdown",
   "id": "3a10bc1d",
   "metadata": {},
   "source": [
    "### Creating model(s) - multiple logistic regression"
   ]
  },
  {
   "cell_type": "code",
   "execution_count": 27,
   "id": "90acaee9",
   "metadata": {},
   "outputs": [
    {
     "name": "stdout",
     "output_type": "stream",
     "text": [
      "                         Away team          Draw     Home team\n",
      "home_team_elo_before -3.094833e-03 -1.005916e-03  4.100749e-03\n",
      "away_team_elo_before  3.251143e-03 -7.136354e-05 -3.179780e-03\n",
      "multiplied_elo       -1.807155e-07  5.941586e-07 -4.134431e-07\n",
      "intercept             7.250749e-08 -6.403188e-07  5.678113e-07\n"
     ]
    }
   ],
   "source": [
    "logreg = LogisticRegression()\n",
    "logreg.fit(X_train, y_train)\n",
    "\n",
    "results = pd.DataFrame().append(logreg.coef_.transpose().tolist())\n",
    "results.loc[len(results)] = logreg.intercept_\n",
    "\n",
    "results.columns = ['Away team', 'Draw', 'Home team']\n",
    "results.index = ['home_team_elo_before', 'away_team_elo_before', 'multiplied_elo', 'intercept']\n",
    "\n",
    "print(results)"
   ]
  },
  {
   "cell_type": "markdown",
   "id": "d4409193",
   "metadata": {},
   "source": [
    "### Accuracy calculated on train dataset"
   ]
  },
  {
   "cell_type": "code",
   "execution_count": 28,
   "id": "defeed9c",
   "metadata": {},
   "outputs": [
    {
     "name": "stdout",
     "output_type": "stream",
     "text": [
      "0.5616195098851663\n"
     ]
    }
   ],
   "source": [
    "score = logreg.score(X_train, y_train)\n",
    "print(score)"
   ]
  },
  {
   "cell_type": "markdown",
   "id": "94fc0866",
   "metadata": {},
   "source": [
    "### Accuracy calculated on test dataset"
   ]
  },
  {
   "cell_type": "code",
   "execution_count": 29,
   "id": "5c0b120a",
   "metadata": {},
   "outputs": [
    {
     "name": "stdout",
     "output_type": "stream",
     "text": [
      "0.5817449982242217\n"
     ]
    }
   ],
   "source": [
    "score = logreg.score(X_test, y_test)\n",
    "print(score)"
   ]
  },
  {
   "cell_type": "markdown",
   "id": "e65bce9a",
   "metadata": {},
   "source": [
    "---"
   ]
  },
  {
   "cell_type": "markdown",
   "id": "881509dd",
   "metadata": {},
   "source": [
    "## Extended model testing"
   ]
  },
  {
   "cell_type": "markdown",
   "id": "faf61fae",
   "metadata": {},
   "source": [
    "### Looking at predictions"
   ]
  },
  {
   "cell_type": "code",
   "execution_count": 30,
   "id": "87e4ebae",
   "metadata": {},
   "outputs": [
    {
     "data": {
      "text/html": [
       "<div>\n",
       "<style scoped>\n",
       "    .dataframe tbody tr th:only-of-type {\n",
       "        vertical-align: middle;\n",
       "    }\n",
       "\n",
       "    .dataframe tbody tr th {\n",
       "        vertical-align: top;\n",
       "    }\n",
       "\n",
       "    .dataframe thead th {\n",
       "        text-align: right;\n",
       "    }\n",
       "</style>\n",
       "<table border=\"1\" class=\"dataframe\">\n",
       "  <thead>\n",
       "    <tr style=\"text-align: right;\">\n",
       "      <th></th>\n",
       "      <th>home_team_elo_before</th>\n",
       "      <th>away_team_elo_before</th>\n",
       "      <th>multiplied_elo</th>\n",
       "      <th>home_team_prob</th>\n",
       "      <th>draw_prob</th>\n",
       "      <th>away_team_prob</th>\n",
       "    </tr>\n",
       "  </thead>\n",
       "  <tbody>\n",
       "    <tr>\n",
       "      <th>0</th>\n",
       "      <td>1339.400465</td>\n",
       "      <td>1159.020175</td>\n",
       "      <td>1.552392e+06</td>\n",
       "      <td>0.741155</td>\n",
       "      <td>0.139108</td>\n",
       "      <td>0.119737</td>\n",
       "    </tr>\n",
       "    <tr>\n",
       "      <th>1</th>\n",
       "      <td>1559.733788</td>\n",
       "      <td>1429.919234</td>\n",
       "      <td>2.230293e+06</td>\n",
       "      <td>0.666115</td>\n",
       "      <td>0.186504</td>\n",
       "      <td>0.147381</td>\n",
       "    </tr>\n",
       "    <tr>\n",
       "      <th>2</th>\n",
       "      <td>1645.256899</td>\n",
       "      <td>1435.296107</td>\n",
       "      <td>2.361431e+06</td>\n",
       "      <td>0.747628</td>\n",
       "      <td>0.156963</td>\n",
       "      <td>0.095409</td>\n",
       "    </tr>\n",
       "    <tr>\n",
       "      <th>3</th>\n",
       "      <td>1360.719398</td>\n",
       "      <td>1400.674004</td>\n",
       "      <td>1.905924e+06</td>\n",
       "      <td>0.450203</td>\n",
       "      <td>0.229350</td>\n",
       "      <td>0.320447</td>\n",
       "    </tr>\n",
       "    <tr>\n",
       "      <th>4</th>\n",
       "      <td>1444.311929</td>\n",
       "      <td>1429.006333</td>\n",
       "      <td>2.063931e+06</td>\n",
       "      <td>0.523226</td>\n",
       "      <td>0.222730</td>\n",
       "      <td>0.254044</td>\n",
       "    </tr>\n",
       "    <tr>\n",
       "      <th>5</th>\n",
       "      <td>1618.752193</td>\n",
       "      <td>1453.894014</td>\n",
       "      <td>2.353494e+06</td>\n",
       "      <td>0.701074</td>\n",
       "      <td>0.177129</td>\n",
       "      <td>0.121796</td>\n",
       "    </tr>\n",
       "    <tr>\n",
       "      <th>6</th>\n",
       "      <td>1409.650877</td>\n",
       "      <td>1577.659509</td>\n",
       "      <td>2.223949e+06</td>\n",
       "      <td>0.275489</td>\n",
       "      <td>0.261075</td>\n",
       "      <td>0.463436</td>\n",
       "    </tr>\n",
       "    <tr>\n",
       "      <th>7</th>\n",
       "      <td>1817.091196</td>\n",
       "      <td>1151.176134</td>\n",
       "      <td>2.091792e+06</td>\n",
       "      <td>0.967953</td>\n",
       "      <td>0.026627</td>\n",
       "      <td>0.005420</td>\n",
       "    </tr>\n",
       "    <tr>\n",
       "      <th>8</th>\n",
       "      <td>1563.215171</td>\n",
       "      <td>1449.000111</td>\n",
       "      <td>2.265099e+06</td>\n",
       "      <td>0.645905</td>\n",
       "      <td>0.195244</td>\n",
       "      <td>0.158851</td>\n",
       "    </tr>\n",
       "    <tr>\n",
       "      <th>9</th>\n",
       "      <td>1451.584784</td>\n",
       "      <td>1546.976202</td>\n",
       "      <td>2.245567e+06</td>\n",
       "      <td>0.365343</td>\n",
       "      <td>0.259657</td>\n",
       "      <td>0.375000</td>\n",
       "    </tr>\n",
       "    <tr>\n",
       "      <th>10</th>\n",
       "      <td>1347.244506</td>\n",
       "      <td>1626.577747</td>\n",
       "      <td>2.191398e+06</td>\n",
       "      <td>0.165251</td>\n",
       "      <td>0.242663</td>\n",
       "      <td>0.592085</td>\n",
       "    </tr>\n",
       "    <tr>\n",
       "      <th>11</th>\n",
       "      <td>1747.611260</td>\n",
       "      <td>1631.039458</td>\n",
       "      <td>2.850423e+06</td>\n",
       "      <td>0.619010</td>\n",
       "      <td>0.231758</td>\n",
       "      <td>0.149232</td>\n",
       "    </tr>\n",
       "    <tr>\n",
       "      <th>12</th>\n",
       "      <td>1393.801587</td>\n",
       "      <td>1573.211428</td>\n",
       "      <td>2.192745e+06</td>\n",
       "      <td>0.263081</td>\n",
       "      <td>0.258370</td>\n",
       "      <td>0.478549</td>\n",
       "    </tr>\n",
       "    <tr>\n",
       "      <th>13</th>\n",
       "      <td>1679.037940</td>\n",
       "      <td>1611.193991</td>\n",
       "      <td>2.705256e+06</td>\n",
       "      <td>0.565728</td>\n",
       "      <td>0.244181</td>\n",
       "      <td>0.190092</td>\n",
       "    </tr>\n",
       "    <tr>\n",
       "      <th>14</th>\n",
       "      <td>1667.226020</td>\n",
       "      <td>1566.162105</td>\n",
       "      <td>2.611146e+06</td>\n",
       "      <td>0.613337</td>\n",
       "      <td>0.222344</td>\n",
       "      <td>0.164318</td>\n",
       "    </tr>\n",
       "    <tr>\n",
       "      <th>15</th>\n",
       "      <td>1431.387322</td>\n",
       "      <td>1554.297587</td>\n",
       "      <td>2.224802e+06</td>\n",
       "      <td>0.330294</td>\n",
       "      <td>0.260730</td>\n",
       "      <td>0.408976</td>\n",
       "    </tr>\n",
       "    <tr>\n",
       "      <th>16</th>\n",
       "      <td>1571.117528</td>\n",
       "      <td>1629.855764</td>\n",
       "      <td>2.560695e+06</td>\n",
       "      <td>0.402825</td>\n",
       "      <td>0.276375</td>\n",
       "      <td>0.320800</td>\n",
       "    </tr>\n",
       "    <tr>\n",
       "      <th>17</th>\n",
       "      <td>1555.923064</td>\n",
       "      <td>1444.263399</td>\n",
       "      <td>2.247163e+06</td>\n",
       "      <td>0.643506</td>\n",
       "      <td>0.195384</td>\n",
       "      <td>0.161109</td>\n",
       "    </tr>\n",
       "    <tr>\n",
       "      <th>18</th>\n",
       "      <td>1744.376535</td>\n",
       "      <td>1570.041314</td>\n",
       "      <td>2.738743e+06</td>\n",
       "      <td>0.692619</td>\n",
       "      <td>0.194890</td>\n",
       "      <td>0.112491</td>\n",
       "    </tr>\n",
       "    <tr>\n",
       "      <th>19</th>\n",
       "      <td>1664.396525</td>\n",
       "      <td>1433.972373</td>\n",
       "      <td>2.386699e+06</td>\n",
       "      <td>0.766043</td>\n",
       "      <td>0.149000</td>\n",
       "      <td>0.084957</td>\n",
       "    </tr>\n",
       "  </tbody>\n",
       "</table>\n",
       "</div>"
      ],
      "text/plain": [
       "    home_team_elo_before  away_team_elo_before  multiplied_elo  \\\n",
       "0            1339.400465           1159.020175    1.552392e+06   \n",
       "1            1559.733788           1429.919234    2.230293e+06   \n",
       "2            1645.256899           1435.296107    2.361431e+06   \n",
       "3            1360.719398           1400.674004    1.905924e+06   \n",
       "4            1444.311929           1429.006333    2.063931e+06   \n",
       "5            1618.752193           1453.894014    2.353494e+06   \n",
       "6            1409.650877           1577.659509    2.223949e+06   \n",
       "7            1817.091196           1151.176134    2.091792e+06   \n",
       "8            1563.215171           1449.000111    2.265099e+06   \n",
       "9            1451.584784           1546.976202    2.245567e+06   \n",
       "10           1347.244506           1626.577747    2.191398e+06   \n",
       "11           1747.611260           1631.039458    2.850423e+06   \n",
       "12           1393.801587           1573.211428    2.192745e+06   \n",
       "13           1679.037940           1611.193991    2.705256e+06   \n",
       "14           1667.226020           1566.162105    2.611146e+06   \n",
       "15           1431.387322           1554.297587    2.224802e+06   \n",
       "16           1571.117528           1629.855764    2.560695e+06   \n",
       "17           1555.923064           1444.263399    2.247163e+06   \n",
       "18           1744.376535           1570.041314    2.738743e+06   \n",
       "19           1664.396525           1433.972373    2.386699e+06   \n",
       "\n",
       "    home_team_prob  draw_prob  away_team_prob  \n",
       "0         0.741155   0.139108        0.119737  \n",
       "1         0.666115   0.186504        0.147381  \n",
       "2         0.747628   0.156963        0.095409  \n",
       "3         0.450203   0.229350        0.320447  \n",
       "4         0.523226   0.222730        0.254044  \n",
       "5         0.701074   0.177129        0.121796  \n",
       "6         0.275489   0.261075        0.463436  \n",
       "7         0.967953   0.026627        0.005420  \n",
       "8         0.645905   0.195244        0.158851  \n",
       "9         0.365343   0.259657        0.375000  \n",
       "10        0.165251   0.242663        0.592085  \n",
       "11        0.619010   0.231758        0.149232  \n",
       "12        0.263081   0.258370        0.478549  \n",
       "13        0.565728   0.244181        0.190092  \n",
       "14        0.613337   0.222344        0.164318  \n",
       "15        0.330294   0.260730        0.408976  \n",
       "16        0.402825   0.276375        0.320800  \n",
       "17        0.643506   0.195384        0.161109  \n",
       "18        0.692619   0.194890        0.112491  \n",
       "19        0.766043   0.149000        0.084957  "
      ]
     },
     "execution_count": 30,
     "metadata": {},
     "output_type": "execute_result"
    }
   ],
   "source": [
    "predictions = [[i[2], i[1], i[0]] for i in logreg.predict_proba(X_test)]\n",
    "predictions_df = pd.DataFrame(predictions, columns=['home_team_prob', 'draw_prob', 'away_team_prob'])\n",
    "X_test_df = X_test.set_index(np.arange(len(X_test)))\n",
    "result = pd.concat([X_test_df, predictions_df], axis = 1, join = 'inner')\n",
    "result.head(20)"
   ]
  },
  {
   "cell_type": "markdown",
   "id": "ad6f2b6a",
   "metadata": {},
   "source": [
    "### Mean probability for each match result"
   ]
  },
  {
   "cell_type": "code",
   "execution_count": 31,
   "id": "9bb627e1",
   "metadata": {},
   "outputs": [
    {
     "name": "stdout",
     "output_type": "stream",
     "text": [
      "Mean probability of draw: 0.22675223678725295\n",
      "Mean probability of win for team A (home): 0.5025665198358719\n",
      "Mean probability of win for team B (away): 0.2706812433768738\n"
     ]
    }
   ],
   "source": [
    "draw = [i[1] for i in predictions]\n",
    "data_loose = [i[2] for i in predictions]\n",
    "data_win = [i[0] for i in predictions]\n",
    "\n",
    "print(f\"Mean probability of draw: {sum(draw)/len(draw)}\")\n",
    "print(f\"Mean probability of win for team A (home): {sum(data_win)/len(data_win)}\")\n",
    "print(f\"Mean probability of win for team B (away): {sum(data_loose)/len(data_loose)}\")"
   ]
  },
  {
   "cell_type": "markdown",
   "id": "f036507e",
   "metadata": {},
   "source": [
    "### Predicted probabilities vs real match results (in test dataset)"
   ]
  },
  {
   "cell_type": "code",
   "execution_count": 32,
   "id": "b6a34d92",
   "metadata": {},
   "outputs": [
    {
     "data": {
      "image/png": "[encoded data removed]",
      "text/plain": [
       "<Figure size 700x500 with 1 Axes>"
      ]
     },
     "metadata": {},
     "output_type": "display_data"
    }
   ],
   "source": [
    "to_plot = [data_loose, draw, data_win]\n",
    "\n",
    "fig = plt.figure(figsize = (7, 5))\n",
    "ax = fig.add_axes([0, 0, 1, 1])\n",
    "ax.set_xticklabels(['Lost matches', 'Tied matches', 'Won matches'])\n",
    "bp = ax.boxplot(to_plot)"
   ]
  },
  {
   "cell_type": "markdown",
   "id": "afb79b1b",
   "metadata": {},
   "source": [
    "As it can be seen, the model tends to give higher probabilities to teams playing at home (listed first). The problem is that the World Cup is played on the neutral ground. As a result, we can conclude that for presented prediction purpose the model is biased. \n",
    "\n",
    "Main source of the problem is the fact, that greater share of games is played on non-neutral ground. This means that the bias comes from the training dataset. Including 'neutral' variable into the model does not allow it to fully control the variability of home team advantage.\n",
    "\n",
    "From our perspective, probability to win as a first listed team and probability to win as a second listed team should be the same."
   ]
  },
  {
   "cell_type": "markdown",
   "id": "b4167298",
   "metadata": {},
   "source": [
    "### Trying to reduce home-team advantage, by implementing away team bonus"
   ]
  },
  {
   "cell_type": "code",
   "execution_count": 33,
   "id": "4ff35703",
   "metadata": {},
   "outputs": [
    {
     "data": {
      "text/plain": [
       "128.5"
      ]
     },
     "execution_count": 33,
     "metadata": {},
     "output_type": "execute_result"
    }
   ],
   "source": [
    "X_test_simulate = X_test.copy()\n",
    "\n",
    "last = float(\"Inf\")\n",
    "optimal_bonus = 0\n",
    "\n",
    "while True:\n",
    "    optimal_bonus += 0.5\n",
    "    X_test_simulate['away_team_elo_before'] = X_test_simulate['away_team_elo_before'] + 0.5\n",
    "    predictions_simulate = [[i[2], i[1], i[0]] for i in logreg.predict_proba(X_test_simulate)]\n",
    "    lost = [i[2] for i in predictions_simulate]\n",
    "    won = [i[0] for i in predictions_simulate]\n",
    "    difference = abs(sum(won)/len(won) - sum(lost)/len(lost))\n",
    "    if difference > last:\n",
    "        break\n",
    "    else:\n",
    "        last = difference\n",
    "        \n",
    "\n",
    "optimal_bonus"
   ]
  },
  {
   "cell_type": "code",
   "execution_count": 34,
   "id": "d6edc59a",
   "metadata": {},
   "outputs": [],
   "source": [
    "X_test_equal = X_test.copy()\n",
    "X_test_equal['away_team_elo_before'] = X_test_equal['away_team_elo_before'] + optimal_bonus\n",
    "\n",
    "predictions_equal = [[i[2], i[1], i[0]] for i in logreg.predict_proba(X_test_equal)]\n",
    "\n",
    "draw = [i[1] for i in predictions_equal]\n",
    "data_loose = [i[2] for i in predictions_equal]\n",
    "data_win = [i[0] for i in predictions_equal]"
   ]
  },
  {
   "cell_type": "code",
   "execution_count": 35,
   "id": "0c005768",
   "metadata": {},
   "outputs": [
    {
     "name": "stdout",
     "output_type": "stream",
     "text": [
      "Mean probability of draw: 0.2299103022278089\n",
      "Mean probability of win for team A: 0.38446121021816404\n",
      "Mean probability of win for team B: 0.385628487554026\n"
     ]
    }
   ],
   "source": [
    "print(f\"Mean probability of draw: {sum(draw)/len(draw)}\")\n",
    "print(f\"Mean probability of win for team A: {sum(data_win)/len(data_win)}\")\n",
    "print(f\"Mean probability of win for team B: {sum(data_loose)/len(data_loose)}\")"
   ]
  },
  {
   "cell_type": "code",
   "execution_count": 36,
   "id": "67829a08",
   "metadata": {},
   "outputs": [
    {
     "data": {
      "image/png": "[encoded data removed]",
      "text/plain": [
       "<Figure size 700x500 with 1 Axes>"
      ]
     },
     "metadata": {},
     "output_type": "display_data"
    }
   ],
   "source": [
    "to_plot = [data_loose, draw, data_win]\n",
    "\n",
    "fig = plt.figure(figsize = (7, 5))\n",
    "ax = fig.add_axes([0, 0, 1, 1])\n",
    "ax.set_xticklabels(['Lost matches', 'Tied matches', 'Won matches'])\n",
    "bp = ax.boxplot(to_plot)"
   ]
  },
  {
   "cell_type": "markdown",
   "id": "ae2c41f0",
   "metadata": {},
   "source": [
    "### Define a function for unbiased probability (the same no matter if a team is listed first or second)"
   ]
  },
  {
   "cell_type": "code",
   "execution_count": 37,
   "id": "ab354e39",
   "metadata": {},
   "outputs": [],
   "source": [
    "def evaluate_match(teams_list, elo_dictionary = None, model = None, should_print = True, draw_possible = True):\n",
    "    \n",
    "    if elo_dictionary:\n",
    "        score_A, score_B = elo_dictionary[teams_list[0]], elo_dictionary[teams_list[1]]\n",
    "        \n",
    "    else:\n",
    "        score_A, score_B = teams_list[0], teams_list[1]\n",
    "    \n",
    "    m = score_A * score_B\n",
    "    \n",
    "    evaluation_A = logreg.predict_proba(np.array([score_A, score_B + optimal_bonus, m]).reshape(1, -1))[0].tolist()\n",
    "    evaluation_B = logreg.predict_proba(np.array([score_B, score_A + optimal_bonus, m]).reshape(1, -1))[0].tolist()\n",
    "    \n",
    "    evaluation_A_mean =  (evaluation_A[2] + evaluation_B[0])/2\n",
    "    evaluation_B_mean =  (evaluation_A[0] + evaluation_B[2])/2\n",
    "    evaluation_draw = 1 - evaluation_A_mean - evaluation_B_mean\n",
    "    \n",
    "    result = {\"A\": evaluation_A_mean, \"Draw\": evaluation_draw, \"B\": evaluation_B_mean}\n",
    "    result_sorted = sorted(result, reverse = True, key = lambda x: result[x])\n",
    "    \n",
    "    if evaluation_A_mean > evaluation_B_mean:\n",
    "        string = teams_list[0]\n",
    "        r = 2.0\n",
    "\n",
    "    else:\n",
    "        string = teams_list[1]\n",
    "        r = 0.0\n",
    "    \n",
    "    if draw_possible:\n",
    "        \n",
    "        if evaluation_draw == max([v for i, v in result.items()]):\n",
    "            string = \"draw\"\n",
    "            r = 1.0\n",
    "\n",
    "        elif result[result_sorted[0]] - (result[result_sorted[1]] + result[result_sorted[2]])/2 <= 0.05:\n",
    "            string = \"draw\"\n",
    "            r = 1.0\n",
    "        \n",
    "    if should_print:\n",
    "        print(teams_list[0], ':', score_A)\n",
    "        print(teams_list[1], ':', score_B)\n",
    "        print(result)\n",
    "        print(f'Predicted: {string}')\n",
    "        print('\\n')\n",
    "    \n",
    "    return r\n",
    "    "
   ]
  },
  {
   "cell_type": "markdown",
   "id": "cb8c596e",
   "metadata": {},
   "source": [
    "### Test function"
   ]
  },
  {
   "cell_type": "code",
   "execution_count": 38,
   "id": "21dbd983",
   "metadata": {},
   "outputs": [
    {
     "name": "stdout",
     "output_type": "stream",
     "text": [
      "Poland : 1835.8734289048857\n",
      "Chile : 1733.1801698711154\n",
      "{'A': 0.46226801986023064, 'Draw': 0.30598407411261025, 'B': 0.23174790602715906}\n",
      "Predicted: Poland\n",
      "\n",
      "\n"
     ]
    },
    {
     "data": {
      "text/plain": [
       "2.0"
      ]
     },
     "execution_count": 38,
     "metadata": {},
     "output_type": "execute_result"
    }
   ],
   "source": [
    "evaluate_match(['Poland', 'Chile'], score_dict, logreg, should_print = True)"
   ]
  },
  {
   "cell_type": "code",
   "execution_count": 39,
   "id": "909b106e",
   "metadata": {},
   "outputs": [
    {
     "name": "stdout",
     "output_type": "stream",
     "text": [
      "Chile : 1733.1801698711154\n",
      "Poland : 1835.8734289048857\n",
      "{'A': 0.23174790602715906, 'Draw': 0.30598407411261036, 'B': 0.46226801986023064}\n",
      "Predicted: Poland\n",
      "\n",
      "\n"
     ]
    },
    {
     "data": {
      "text/plain": [
       "0.0"
      ]
     },
     "execution_count": 39,
     "metadata": {},
     "output_type": "execute_result"
    }
   ],
   "source": [
    "evaluate_match(['Chile', 'Poland'], score_dict, logreg, should_print = True)"
   ]
  },
  {
   "cell_type": "markdown",
   "id": "9c6fb7fb",
   "metadata": {},
   "source": [
    "---"
   ]
  },
  {
   "cell_type": "markdown",
   "id": "fc4c7bac",
   "metadata": {},
   "source": [
    "## Test quality of predictions made with evaluate_match function approach"
   ]
  },
  {
   "cell_type": "markdown",
   "id": "cc387baf",
   "metadata": {},
   "source": [
    "### Create the dataset"
   ]
  },
  {
   "cell_type": "code",
   "execution_count": 40,
   "id": "12ef34ea",
   "metadata": {},
   "outputs": [
    {
     "name": "stdout",
     "output_type": "stream",
     "text": [
      "Dataset contains 5191 games\n"
     ]
    }
   ],
   "source": [
    "games_dataset = final.copy()\n",
    "neutral_games_dataset = games_dataset[(games_dataset.neutral == True) & (games_dataset.year >= 2000)]\n",
    "print(f\"Dataset contains {len(neutral_games_dataset)} games\")"
   ]
  },
  {
   "cell_type": "markdown",
   "id": "c4d1dd95",
   "metadata": {},
   "source": [
    "### Add the away team bonus"
   ]
  },
  {
   "cell_type": "code",
   "execution_count": 41,
   "id": "e1ebb60c",
   "metadata": {},
   "outputs": [],
   "source": [
    "neutral_games_dataset['away_team_elo_before']  = neutral_games_dataset['away_team_elo_before'] + optimal_bonus"
   ]
  },
  {
   "cell_type": "markdown",
   "id": "1ca4765e",
   "metadata": {},
   "source": [
    "### Pick only needed variables"
   ]
  },
  {
   "cell_type": "code",
   "execution_count": 42,
   "id": "8643e20b",
   "metadata": {},
   "outputs": [],
   "source": [
    "X_test_neutral = neutral_games_dataset[explanatory_variables]\n",
    "y_neutral = neutral_games_dataset[target_variable]"
   ]
  },
  {
   "cell_type": "markdown",
   "id": "f9bf42b4",
   "metadata": {},
   "source": [
    "### Make predictions"
   ]
  },
  {
   "cell_type": "code",
   "execution_count": 43,
   "id": "f08aa43b",
   "metadata": {},
   "outputs": [],
   "source": [
    "predictions_neutral = [evaluate_match([X_test_neutral['home_team_elo_before'].iloc[i], X_test_neutral['away_team_elo_before'].iloc[i]], model = logreg, should_print = False) for i in range(X_test_neutral.shape[0])]"
   ]
  },
  {
   "cell_type": "code",
   "execution_count": 44,
   "id": "636ac074",
   "metadata": {},
   "outputs": [],
   "source": [
    "predictions_neutral = np.array(predictions_neutral)\n",
    "y_neutral = np.array(y_neutral)"
   ]
  },
  {
   "cell_type": "markdown",
   "id": "4aac30f6",
   "metadata": {},
   "source": [
    "### Add predictions to dataset"
   ]
  },
  {
   "cell_type": "code",
   "execution_count": 45,
   "id": "d71a516d",
   "metadata": {},
   "outputs": [],
   "source": [
    "neutral_games_dataset['predictions'] = predictions_neutral.tolist()"
   ]
  },
  {
   "cell_type": "markdown",
   "id": "d224eaef",
   "metadata": {},
   "source": [
    "### Calculate Accuracy"
   ]
  },
  {
   "cell_type": "code",
   "execution_count": 46,
   "id": "1495a53a",
   "metadata": {},
   "outputs": [
    {
     "data": {
      "text/plain": [
       "0.4947023694856482"
      ]
     },
     "execution_count": 46,
     "metadata": {},
     "output_type": "execute_result"
    }
   ],
   "source": [
    "np.sum(predictions_neutral == y_neutral)/len(y_neutral)"
   ]
  },
  {
   "cell_type": "markdown",
   "id": "1a1e3c40",
   "metadata": {},
   "source": [
    "### Sample of predictions"
   ]
  },
  {
   "cell_type": "code",
   "execution_count": 47,
   "id": "2da18f24",
   "metadata": {},
   "outputs": [
    {
     "data": {
      "text/html": [
       "<div>\n",
       "<style scoped>\n",
       "    .dataframe tbody tr th:only-of-type {\n",
       "        vertical-align: middle;\n",
       "    }\n",
       "\n",
       "    .dataframe tbody tr th {\n",
       "        vertical-align: top;\n",
       "    }\n",
       "\n",
       "    .dataframe thead th {\n",
       "        text-align: right;\n",
       "    }\n",
       "</style>\n",
       "<table border=\"1\" class=\"dataframe\">\n",
       "  <thead>\n",
       "    <tr style=\"text-align: right;\">\n",
       "      <th></th>\n",
       "      <th>home_team</th>\n",
       "      <th>away_team</th>\n",
       "      <th>home_score</th>\n",
       "      <th>away_score</th>\n",
       "      <th>home_team_elo_before</th>\n",
       "      <th>away_team_elo_before</th>\n",
       "      <th>result_recoded</th>\n",
       "      <th>predictions</th>\n",
       "    </tr>\n",
       "  </thead>\n",
       "  <tbody>\n",
       "    <tr>\n",
       "      <th>44035</th>\n",
       "      <td>Ivory Coast</td>\n",
       "      <td>Guinea</td>\n",
       "      <td>3.0</td>\n",
       "      <td>1.0</td>\n",
       "      <td>1727.423586</td>\n",
       "      <td>1608.621400</td>\n",
       "      <td>2.0</td>\n",
       "      <td>2.0</td>\n",
       "    </tr>\n",
       "    <tr>\n",
       "      <th>44038</th>\n",
       "      <td>Madagascar</td>\n",
       "      <td>Benin</td>\n",
       "      <td>3.0</td>\n",
       "      <td>1.0</td>\n",
       "      <td>1428.387854</td>\n",
       "      <td>1642.236908</td>\n",
       "      <td>2.0</td>\n",
       "      <td>0.0</td>\n",
       "    </tr>\n",
       "    <tr>\n",
       "      <th>44040</th>\n",
       "      <td>Mauritania</td>\n",
       "      <td>Congo</td>\n",
       "      <td>2.0</td>\n",
       "      <td>0.0</td>\n",
       "      <td>1501.996520</td>\n",
       "      <td>1573.075325</td>\n",
       "      <td>2.0</td>\n",
       "      <td>0.0</td>\n",
       "    </tr>\n",
       "    <tr>\n",
       "      <th>44041</th>\n",
       "      <td>Mexico</td>\n",
       "      <td>Colombia</td>\n",
       "      <td>2.0</td>\n",
       "      <td>3.0</td>\n",
       "      <td>1864.869285</td>\n",
       "      <td>2041.091005</td>\n",
       "      <td>0.0</td>\n",
       "      <td>0.0</td>\n",
       "    </tr>\n",
       "    <tr>\n",
       "      <th>44043</th>\n",
       "      <td>Paraguay</td>\n",
       "      <td>Morocco</td>\n",
       "      <td>0.0</td>\n",
       "      <td>0.0</td>\n",
       "      <td>1758.144213</td>\n",
       "      <td>1969.286747</td>\n",
       "      <td>1.0</td>\n",
       "      <td>0.0</td>\n",
       "    </tr>\n",
       "    <tr>\n",
       "      <th>44044</th>\n",
       "      <td>Peru</td>\n",
       "      <td>El Salvador</td>\n",
       "      <td>4.0</td>\n",
       "      <td>1.0</td>\n",
       "      <td>1859.250416</td>\n",
       "      <td>1713.490440</td>\n",
       "      <td>2.0</td>\n",
       "      <td>2.0</td>\n",
       "    </tr>\n",
       "    <tr>\n",
       "      <th>44045</th>\n",
       "      <td>Qatar</td>\n",
       "      <td>Chile</td>\n",
       "      <td>2.0</td>\n",
       "      <td>2.0</td>\n",
       "      <td>1748.266084</td>\n",
       "      <td>1861.233401</td>\n",
       "      <td>1.0</td>\n",
       "      <td>0.0</td>\n",
       "    </tr>\n",
       "    <tr>\n",
       "      <th>44046</th>\n",
       "      <td>Saudi Arabia</td>\n",
       "      <td>United States</td>\n",
       "      <td>0.0</td>\n",
       "      <td>0.0</td>\n",
       "      <td>1762.589840</td>\n",
       "      <td>1995.456437</td>\n",
       "      <td>1.0</td>\n",
       "      <td>0.0</td>\n",
       "    </tr>\n",
       "    <tr>\n",
       "      <th>44048</th>\n",
       "      <td>United Arab Emirates</td>\n",
       "      <td>Venezuela</td>\n",
       "      <td>0.0</td>\n",
       "      <td>4.0</td>\n",
       "      <td>1666.785572</td>\n",
       "      <td>1797.054977</td>\n",
       "      <td>0.0</td>\n",
       "      <td>0.0</td>\n",
       "    </tr>\n",
       "    <tr>\n",
       "      <th>44053</th>\n",
       "      <td>Ukraine</td>\n",
       "      <td>Scotland</td>\n",
       "      <td>0.0</td>\n",
       "      <td>0.0</td>\n",
       "      <td>1801.250490</td>\n",
       "      <td>1897.783249</td>\n",
       "      <td>1.0</td>\n",
       "      <td>0.0</td>\n",
       "    </tr>\n",
       "  </tbody>\n",
       "</table>\n",
       "</div>"
      ],
      "text/plain": [
       "                  home_team      away_team  home_score  away_score  \\\n",
       "44035           Ivory Coast         Guinea         3.0         1.0   \n",
       "44038            Madagascar          Benin         3.0         1.0   \n",
       "44040            Mauritania          Congo         2.0         0.0   \n",
       "44041                Mexico       Colombia         2.0         3.0   \n",
       "44043              Paraguay        Morocco         0.0         0.0   \n",
       "44044                  Peru    El Salvador         4.0         1.0   \n",
       "44045                 Qatar          Chile         2.0         2.0   \n",
       "44046          Saudi Arabia  United States         0.0         0.0   \n",
       "44048  United Arab Emirates      Venezuela         0.0         4.0   \n",
       "44053               Ukraine       Scotland         0.0         0.0   \n",
       "\n",
       "       home_team_elo_before  away_team_elo_before  result_recoded  predictions  \n",
       "44035           1727.423586           1608.621400             2.0          2.0  \n",
       "44038           1428.387854           1642.236908             2.0          0.0  \n",
       "44040           1501.996520           1573.075325             2.0          0.0  \n",
       "44041           1864.869285           2041.091005             0.0          0.0  \n",
       "44043           1758.144213           1969.286747             1.0          0.0  \n",
       "44044           1859.250416           1713.490440             2.0          2.0  \n",
       "44045           1748.266084           1861.233401             1.0          0.0  \n",
       "44046           1762.589840           1995.456437             1.0          0.0  \n",
       "44048           1666.785572           1797.054977             0.0          0.0  \n",
       "44053           1801.250490           1897.783249             1.0          0.0  "
      ]
     },
     "execution_count": 47,
     "metadata": {},
     "output_type": "execute_result"
    }
   ],
   "source": [
    "neutral_games_dataset[\n",
    "                            ['home_team', 'away_team', \n",
    "                             'home_score', 'away_score', \n",
    "                             'home_team_elo_before', 'away_team_elo_before', \n",
    "                             'result_recoded', 'predictions']\n",
    "                        ].tail(10)"
   ]
  },
  {
   "cell_type": "markdown",
   "id": "58f9f5ba",
   "metadata": {},
   "source": [
    "---"
   ]
  },
  {
   "cell_type": "markdown",
   "id": "f0f4cd05",
   "metadata": {},
   "source": [
    "## Predict the World Cup games results"
   ]
  },
  {
   "cell_type": "markdown",
   "id": "060e7424",
   "metadata": {},
   "source": [
    "### Games list"
   ]
  },
  {
   "cell_type": "code",
   "execution_count": 48,
   "id": "52f4fb13",
   "metadata": {},
   "outputs": [],
   "source": [
    "group_matches_first_round = [\n",
    "    ['Qatar', 'Ecuador'], ['Senegal', 'Netherlands'],\n",
    "    ['England', 'Iran'], ['United States', 'Wales'],\n",
    "    ['Argentina', 'Saudi Arabia'], ['Mexico', 'Poland'],\n",
    "    ['Denmark', 'Tunisia'], ['France', 'Australia'],\n",
    "    ['Germany', 'Japan'], ['Spain', 'Costa Rica'],\n",
    "    ['Morocco', 'Croatia'], ['Belgium', 'Canada'],\n",
    "    ['Switzerland', 'Cameroon'], ['Brazil', 'Serbia'],\n",
    "    ['Uruguay', 'South Korea'], ['Portugal', 'Ghana']\n",
    "]\n",
    "\n",
    "group_matches_second_round = [\n",
    "    ['Qatar', 'Senegal'], ['Ecuador', 'Netherlands'],\n",
    "    ['Wales', 'Iran'], ['United States', 'England'],\n",
    "    ['Poland', 'Saudi Arabia'], ['Mexico', 'Argentina'],\n",
    "    ['Denmark', 'France'], ['Tunisia', 'Australia'],\n",
    "    ['Germany', 'Spain'], ['Japan', 'Costa Rica'],\n",
    "    ['Morocco', 'Belgium'], ['Croatia', 'Canada'],\n",
    "    ['Switzerland', 'Brazil'], ['Cameroon', 'Serbia'],\n",
    "    ['Uruguay', 'Portugal'], ['South Korea', 'Ghana']\n",
    "]\n",
    "\n",
    "group_matches_third_round = [\n",
    "    ['Ecuador', 'Senegal'], ['Qatar', 'Netherlands'],\n",
    "    ['Wales', 'England'], ['United States', 'Iran'],\n",
    "    ['Poland', 'Argentina'], ['Mexico', 'Saudi Arabia'],\n",
    "    ['Denmark', 'Australia'], ['Tunisia', 'France'],\n",
    "    ['Japan', 'Spain'], ['Germany', 'Costa Rica'],\n",
    "    ['Croatia', 'Belgium'], ['Morocco', 'Canada'],\n",
    "    ['Switzerland', 'Serbia'], ['Cameroon', 'Brazil'],\n",
    "    ['Uruguay', 'Ghana'], ['South Korea', 'Portugal']\n",
    "]"
   ]
  },
  {
   "cell_type": "markdown",
   "id": "937c7cce",
   "metadata": {},
   "source": [
    "### First round"
   ]
  },
  {
   "cell_type": "code",
   "execution_count": 49,
   "id": "91e0a265",
   "metadata": {},
   "outputs": [
    {
     "name": "stdout",
     "output_type": "stream",
     "text": [
      "Qatar : 1747.8193146913368\n",
      "Ecuador : 1843.0757408851034\n",
      "{'A': 0.23766265277199305, 'Draw': 0.3114459500165826, 'B': 0.45089139721142435}\n",
      "Predicted: Ecuador\n",
      "\n",
      "\n",
      "Senegal : 1831.6271474615905\n",
      "Netherlands : 2019.0583572709954\n",
      "{'A': 0.14855952562144453, 'Draw': 0.32815019974831117, 'B': 0.5232902746302444}\n",
      "Predicted: Netherlands\n",
      "\n",
      "\n",
      "England : 1983.0933157249501\n",
      "Iran : 1888.4521974524941\n",
      "{'A': 0.41501643861979687, 'Draw': 0.36503263843916506, 'B': 0.21995092294103807}\n",
      "Predicted: England\n",
      "\n",
      "\n",
      "United States : 1864.0397311041725\n",
      "Wales : 1826.735718425402\n",
      "{'A': 0.37164958294192957, 'Draw': 0.33906481437813113, 'B': 0.28928560267993936}\n",
      "Predicted: United States\n",
      "\n",
      "\n",
      "Argentina : 2112.967396630336\n",
      "Saudi Arabia : 1765.5065459889556\n",
      "{'A': 0.6829554883706064, 'Draw': 0.2513071571645394, 'B': 0.06573735446485422}\n",
      "Predicted: Argentina\n",
      "\n",
      "\n",
      "Mexico : 1856.2342531453658\n",
      "Poland : 1835.8734289048857\n",
      "{'A': 0.3521996242070766, 'Draw': 0.34061210324047425, 'B': 0.3071882725524491}\n",
      "Predicted: draw\n",
      "\n",
      "\n",
      "Denmark : 1947.070760464522\n",
      "Tunisia : 1730.2098986492847\n",
      "{'A': 0.5815749810643223, 'Draw': 0.28328711496398334, 'B': 0.1351379039716944}\n",
      "Predicted: Denmark\n",
      "\n",
      "\n",
      "France : 1996.2757434366906\n",
      "Australia : 1785.3776684322809\n",
      "{'A': 0.5599950213894618, 'Draw': 0.30439556801682577, 'B': 0.13560941059371248}\n",
      "Predicted: France\n",
      "\n",
      "\n",
      "Germany : 1964.9707716235532\n",
      "Japan : 1890.8097532388608\n",
      "{'A': 0.39405352039143976, 'Draw': 0.3663448341296912, 'B': 0.23960164547886906}\n",
      "Predicted: Germany\n",
      "\n",
      "\n",
      "Spain : 2025.6151289146273\n",
      "Costa Rica : 1809.2968290374688\n",
      "{'A': 0.5577713980966077, 'Draw': 0.311928545631833, 'B': 0.13030005627155933}\n",
      "Predicted: Spain\n",
      "\n",
      "\n",
      "Morocco : 1838.4519714660025\n",
      "Croatia : 1902.7429272536117\n",
      "{'A': 0.25787842739212263, 'Draw': 0.3450280946196317, 'B': 0.3970934779882457}\n",
      "Predicted: Croatia\n",
      "\n",
      "\n",
      "Belgium : 2034.8443798178523\n",
      "Canada : 1831.6965451575372\n",
      "{'A': 0.5382545379364185, 'Draw': 0.3242711717855499, 'B': 0.13747429027803154}\n",
      "Predicted: Belgium\n",
      "\n",
      "\n",
      "Switzerland : 1937.3650087243811\n",
      "Cameroon : 1703.523322725029\n",
      "{'A': 0.6050433471056984, 'Draw': 0.26964660386167644, 'B': 0.12531004903262516}\n",
      "Predicted: Switzerland\n",
      "\n",
      "\n",
      "Brazil : 2154.211982122602\n",
      "Serbia : 1869.1100251035105\n",
      "{'A': 0.5979324400151185, 'Draw': 0.3140183817349956, 'B': 0.08804917824988595}\n",
      "Predicted: Brazil\n",
      "\n",
      "\n",
      "Uruguay : 1928.3087742925027\n",
      "South Korea : 1893.2558456719446\n",
      "{'A': 0.35465072538056636, 'Draw': 0.36502188949419123, 'B': 0.28032738512524236}\n",
      "Predicted: draw\n",
      "\n",
      "\n",
      "Portugal : 1974.4119347593005\n",
      "Ghana : 1634.8219249208985\n",
      "{'A': 0.7134783195464508, 'Draw': 0.2143606340816812, 'B': 0.07216104637186799}\n",
      "Predicted: Portugal\n",
      "\n",
      "\n"
     ]
    }
   ],
   "source": [
    "for match in group_matches_first_round:\n",
    "    evaluate_match(match, score_dict, logreg, should_print = True)"
   ]
  },
  {
   "cell_type": "markdown",
   "id": "abdc50d5",
   "metadata": {},
   "source": [
    "### Summary of first round predictions"
   ]
  },
  {
   "cell_type": "code",
   "execution_count": 50,
   "id": "b64ff726",
   "metadata": {},
   "outputs": [
    {
     "name": "stdout",
     "output_type": "stream",
     "text": [
      "Predicted 2 draws\n",
      "Predicted 3 games won by team A\n",
      "Predicted 11 games won by team B\n"
     ]
    }
   ],
   "source": [
    "r = [evaluate_match(match, score_dict, logreg, should_print = False) for match in group_matches_first_round]\n",
    "r_dict = dict(Counter(r))\n",
    "print(f\"Predicted {r_dict[1]} draws\")\n",
    "print(f\"Predicted {r_dict[0]} games won by team A\")\n",
    "print(f\"Predicted {r_dict[2]} games won by team B\")"
   ]
  },
  {
   "cell_type": "markdown",
   "id": "21c9c93a",
   "metadata": {},
   "source": [
    "### Second round"
   ]
  },
  {
   "cell_type": "code",
   "execution_count": 51,
   "id": "e0438bf4",
   "metadata": {},
   "outputs": [
    {
     "name": "stdout",
     "output_type": "stream",
     "text": [
      "Qatar : 1747.8193146913368\n",
      "Senegal : 1831.6271474615905\n",
      "{'A': 0.2495637268262691, 'Draw': 0.31204780161293955, 'B': 0.4383884715607913}\n",
      "Predicted: Senegal\n",
      "\n",
      "\n",
      "Ecuador : 1843.0757408851034\n",
      "Netherlands : 2019.0583572709954\n",
      "{'A': 0.15600107946960415, 'Draw': 0.33534378988242297, 'B': 0.5086551306479729}\n",
      "Predicted: Netherlands\n",
      "\n",
      "\n",
      "Wales : 1826.735718425402\n",
      "Iran : 1888.4521974524941\n",
      "{'A': 0.2623870529734808, 'Draw': 0.34047208658495287, 'B': 0.39714086044156627}\n",
      "Predicted: Iran\n",
      "\n",
      "\n",
      "United States : 1864.0397311041725\n",
      "England : 1983.0933157249501\n",
      "{'A': 0.20068794462767753, 'Draw': 0.3530886481805434, 'B': 0.4462234071917791}\n",
      "Predicted: England\n",
      "\n",
      "\n",
      "Poland : 1835.8734289048857\n",
      "Saudi Arabia : 1765.5065459889556\n",
      "{'A': 0.4199261956619852, 'Draw': 0.31838781344461514, 'B': 0.26168599089339967}\n",
      "Predicted: Poland\n",
      "\n",
      "\n",
      "Mexico : 1856.2342531453658\n",
      "Argentina : 2112.967396630336\n",
      "{'A': 0.10308721820937826, 'Draw': 0.318369276438774, 'B': 0.5785435053518477}\n",
      "Predicted: Argentina\n",
      "\n",
      "\n",
      "Denmark : 1947.070760464522\n",
      "France : 1996.2757434366906\n",
      "{'A': 0.2553144448196053, 'Draw': 0.3896392759827608, 'B': 0.3550462791976339}\n",
      "Predicted: draw\n",
      "\n",
      "\n",
      "Tunisia : 1730.2098986492847\n",
      "Australia : 1785.3776684322809\n",
      "{'A': 0.28317768949806404, 'Draw': 0.3064840223148535, 'B': 0.4103382881870825}\n",
      "Predicted: Australia\n",
      "\n",
      "\n",
      "Germany : 1964.9707716235532\n",
      "Spain : 2025.6151289146273\n",
      "{'A': 0.2404281626952623, 'Draw': 0.3986540297519191, 'B': 0.36091780755281866}\n",
      "Predicted: draw\n",
      "\n",
      "\n",
      "Japan : 1890.8097532388608\n",
      "Costa Rica : 1809.2968290374688\n",
      "{'A': 0.42199245645870265, 'Draw': 0.33394188418983684, 'B': 0.24406565935146052}\n",
      "Predicted: Japan\n",
      "\n",
      "\n",
      "Morocco : 1838.4519714660025\n",
      "Belgium : 2034.8443798178523\n",
      "{'A': 0.14160142172019108, 'Draw': 0.3287076832055089, 'B': 0.5296908950743}\n",
      "Predicted: Belgium\n",
      "\n",
      "\n",
      "Croatia : 1902.7429272536117\n",
      "Canada : 1831.6965451575372\n",
      "{'A': 0.40570443516201316, 'Draw': 0.342520356586893, 'B': 0.25177520825109384}\n",
      "Predicted: Croatia\n",
      "\n",
      "\n",
      "Switzerland : 1937.3650087243811\n",
      "Brazil : 2154.211982122602\n",
      "{'A': 0.12000792710725249, 'Draw': 0.3664257234616872, 'B': 0.5135663494310603}\n",
      "Predicted: Brazil\n",
      "\n",
      "\n",
      "Cameroon : 1703.523322725029\n",
      "Serbia : 1869.1100251035105\n",
      "{'A': 0.17617098182079188, 'Draw': 0.28703020141751656, 'B': 0.5367988167616915}\n",
      "Predicted: Serbia\n",
      "\n",
      "\n",
      "Uruguay : 1928.3087742925027\n",
      "Portugal : 1974.4119347593005\n",
      "{'A': 0.2620268334446123, 'Draw': 0.3810440082340212, 'B': 0.3569291583213665}\n",
      "Predicted: draw\n",
      "\n",
      "\n",
      "South Korea : 1893.2558456719446\n",
      "Ghana : 1634.8219249208985\n",
      "{'A': 0.6453543103464887, 'Draw': 0.24157447838202264, 'B': 0.11307121127148864}\n",
      "Predicted: South Korea\n",
      "\n",
      "\n"
     ]
    }
   ],
   "source": [
    "for match in group_matches_second_round:\n",
    "    evaluate_match(match, score_dict, logreg, should_print = True)"
   ]
  },
  {
   "cell_type": "markdown",
   "id": "0a8a067f",
   "metadata": {},
   "source": [
    "### Summary of second round predictions"
   ]
  },
  {
   "cell_type": "code",
   "execution_count": 52,
   "id": "805732e1",
   "metadata": {},
   "outputs": [
    {
     "name": "stdout",
     "output_type": "stream",
     "text": [
      "Predicted 3 draws\n",
      "Predicted 9 games won by team A\n",
      "Predicted 4 games won by team B\n"
     ]
    }
   ],
   "source": [
    "r = [evaluate_match(match, score_dict, logreg, should_print = False) for match in group_matches_second_round]\n",
    "r_dict = dict(Counter(r))\n",
    "print(f\"Predicted {r_dict[1]} draws\")\n",
    "print(f\"Predicted {r_dict[0]} games won by team A\")\n",
    "print(f\"Predicted {r_dict[2]} games won by team B\")"
   ]
  },
  {
   "cell_type": "markdown",
   "id": "71d52aeb",
   "metadata": {},
   "source": [
    "### Third round"
   ]
  },
  {
   "cell_type": "code",
   "execution_count": 53,
   "id": "048f6272",
   "metadata": {},
   "outputs": [
    {
     "name": "stdout",
     "output_type": "stream",
     "text": [
      "Ecuador : 1843.0757408851034\n",
      "Senegal : 1831.6271474615905\n",
      "{'A': 0.343850809260526, 'Draw': 0.3377472791020522, 'B': 0.31840191163742176}\n",
      "Predicted: draw\n",
      "\n",
      "\n",
      "Qatar : 1747.8193146913368\n",
      "Netherlands : 2019.0583572709954\n",
      "{'A': 0.10090923459649817, 'Draw': 0.2725032325136084, 'B': 0.6265875328898934}\n",
      "Predicted: Netherlands\n",
      "\n",
      "\n",
      "Wales : 1826.735718425402\n",
      "England : 1983.0933157249501\n",
      "{'A': 0.1729380231485506, 'Draw': 0.3327269464710351, 'B': 0.4943350303804142}\n",
      "Predicted: England\n",
      "\n",
      "\n",
      "United States : 1864.0397311041725\n",
      "Iran : 1888.4521974524941\n",
      "{'A': 0.2975293049729073, 'Draw': 0.35196100566316146, 'B': 0.35050968936393123}\n",
      "Predicted: draw\n",
      "\n",
      "\n",
      "Poland : 1835.8734289048857\n",
      "Argentina : 2112.967396630336\n",
      "{'A': 0.09362953019637187, 'Draw': 0.30318841860686585, 'B': 0.6031820511967623}\n",
      "Predicted: Argentina\n",
      "\n",
      "\n",
      "Mexico : 1856.2342531453658\n",
      "Saudi Arabia : 1765.5065459889556\n",
      "{'A': 0.4419986599695674, 'Draw': 0.3177929310999106, 'B': 0.24020840893052206}\n",
      "Predicted: Mexico\n",
      "\n",
      "\n",
      "Denmark : 1947.070760464522\n",
      "Australia : 1785.3776684322809\n",
      "{'A': 0.5115129040387909, 'Draw': 0.3159659041075171, 'B': 0.17252119185369194}\n",
      "Predicted: Denmark\n",
      "\n",
      "\n",
      "Tunisia : 1730.2098986492847\n",
      "France : 1996.2757434366906\n",
      "{'A': 0.10455164700086049, 'Draw': 0.26826219502812965, 'B': 0.6271861579710098}\n",
      "Predicted: France\n",
      "\n",
      "\n",
      "Japan : 1890.8097532388608\n",
      "Spain : 2025.6151289146273\n",
      "{'A': 0.18368314698250213, 'Draw': 0.36255245860522756, 'B': 0.45376439441227034}\n",
      "Predicted: Spain\n",
      "\n",
      "\n",
      "Germany : 1964.9707716235532\n",
      "Costa Rica : 1809.2968290374688\n",
      "{'A': 0.4986999362530047, 'Draw': 0.32608291178851584, 'B': 0.17521715195847948}\n",
      "Predicted: Germany\n",
      "\n",
      "\n",
      "Croatia : 1902.7429272536117\n",
      "Belgium : 2034.8443798178523\n",
      "{'A': 0.18447723918201836, 'Draw': 0.368088009006468, 'B': 0.4474347518115136}\n",
      "Predicted: Belgium\n",
      "\n",
      "\n",
      "Morocco : 1838.4519714660025\n",
      "Canada : 1831.6965451575372\n",
      "{'A': 0.33900938360342603, 'Draw': 0.33701948444879204, 'B': 0.32397113194778193}\n",
      "Predicted: draw\n",
      "\n",
      "\n",
      "Switzerland : 1937.3650087243811\n",
      "Serbia : 1869.1100251035105\n",
      "{'A': 0.3937032300100118, 'Draw': 0.35727836283785597, 'B': 0.2490184071521322}\n",
      "Predicted: Switzerland\n",
      "\n",
      "\n",
      "Cameroon : 1703.523322725029\n",
      "Brazil : 2154.211982122602\n",
      "{'A': 0.03670848888669206, 'Draw': 0.19364943616798458, 'B': 0.7696420749453233}\n",
      "Predicted: Brazil\n",
      "\n",
      "\n",
      "Uruguay : 1928.3087742925027\n",
      "Ghana : 1634.8219249208985\n",
      "{'A': 0.6763377398837245, 'Draw': 0.2301825583380622, 'B': 0.09347970177821333}\n",
      "Predicted: Uruguay\n",
      "\n",
      "\n",
      "South Korea : 1893.2558456719446\n",
      "Portugal : 1974.4119347593005\n",
      "{'A': 0.2322717835891419, 'Draw': 0.36738900025602517, 'B': 0.4003392161548329}\n",
      "Predicted: Portugal\n",
      "\n",
      "\n"
     ]
    }
   ],
   "source": [
    "for match in group_matches_third_round:\n",
    "    evaluate_match(match, score_dict, logreg, should_print = True)"
   ]
  },
  {
   "cell_type": "markdown",
   "id": "a384a316",
   "metadata": {},
   "source": [
    "### Summary of third round predictions"
   ]
  },
  {
   "cell_type": "code",
   "execution_count": 54,
   "id": "7c701fb8",
   "metadata": {},
   "outputs": [
    {
     "name": "stdout",
     "output_type": "stream",
     "text": [
      "Predicted 3 draws\n",
      "Predicted 8 games won by team A\n",
      "Predicted 5 games won by team B\n"
     ]
    }
   ],
   "source": [
    "r = [evaluate_match(match, score_dict, logreg, should_print = False) for match in group_matches_third_round]\n",
    "r_dict = dict(Counter(r))\n",
    "print(f\"Predicted {r_dict[1]} draws\")\n",
    "print(f\"Predicted {r_dict[0]} games won by team A\")\n",
    "print(f\"Predicted {r_dict[2]} games won by team B\")\n"
   ]
  }
 ],
 "metadata": {
  "kernelspec": {
   "display_name": "Python 3 (ipykernel)",
   "language": "python",
   "name": "python3"
  },
  "language_info": {
   "codemirror_mode": {
    "name": "ipython",
    "version": 3
   },
   "file_extension": ".py",
   "mimetype": "text/x-python",
   "name": "python",
   "nbconvert_exporter": "python",
   "pygments_lexer": "ipython3",
   "version": "3.9.13"
  }
 },
 "nbformat": 4,
 "nbformat_minor": 5
}
